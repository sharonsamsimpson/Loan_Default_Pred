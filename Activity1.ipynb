{
 "cells": [
  {
   "cell_type": "raw",
   "id": "e0885658",
   "metadata": {},
   "source": [
    "Name: SHARON SAM\n",
    "Roll No: 215229137"
   ]
  },
  {
   "cell_type": "markdown",
   "id": "d0cc3c70",
   "metadata": {},
   "source": [
    "# CA_01 : Import CSV file into Data Frames and pre process that dataset"
   ]
  },
  {
   "cell_type": "markdown",
   "id": "010b471f",
   "metadata": {},
   "source": [
    "Description:\n",
    "\n",
    "Importing a dataset for Loan Eligibility in a bank to check if the Account holder is either eligible or not eligible to avail a loan from bank based on the Account balance of the Account holder."
   ]
  },
  {
   "cell_type": "markdown",
   "id": "8d4d2745",
   "metadata": {},
   "source": [
    "### Loading the dataset"
   ]
  },
  {
   "cell_type": "code",
   "execution_count": 1,
   "id": "59ac79a1",
   "metadata": {},
   "outputs": [],
   "source": [
    "# Importing required library\n",
    "import pandas as pd"
   ]
  },
  {
   "cell_type": "code",
   "execution_count": 2,
   "id": "5ae343f4",
   "metadata": {},
   "outputs": [],
   "source": [
    "# Importing the dataset\n",
    "df = pd.read_csv(r\"Loan_Eligibility.csv\", dtype='str')"
   ]
  },
  {
   "cell_type": "markdown",
   "id": "3219b6bc",
   "metadata": {},
   "source": [
    "### Printing some Properties of the dataset"
   ]
  },
  {
   "cell_type": "code",
   "execution_count": 3,
   "id": "665bba54",
   "metadata": {},
   "outputs": [
    {
     "data": {
      "text/html": [
       "<div>\n",
       "<style scoped>\n",
       "    .dataframe tbody tr th:only-of-type {\n",
       "        vertical-align: middle;\n",
       "    }\n",
       "\n",
       "    .dataframe tbody tr th {\n",
       "        vertical-align: top;\n",
       "    }\n",
       "\n",
       "    .dataframe thead th {\n",
       "        text-align: right;\n",
       "    }\n",
       "</style>\n",
       "<table border=\"1\" class=\"dataframe\">\n",
       "  <thead>\n",
       "    <tr style=\"text-align: right;\">\n",
       "      <th></th>\n",
       "      <th>Acc_No</th>\n",
       "      <th>Acc_Balance</th>\n",
       "      <th>Loan_Eligibility</th>\n",
       "    </tr>\n",
       "  </thead>\n",
       "  <tbody>\n",
       "    <tr>\n",
       "      <th>0</th>\n",
       "      <td>4561237895</td>\n",
       "      <td>247126336.00</td>\n",
       "      <td>Yes</td>\n",
       "    </tr>\n",
       "    <tr>\n",
       "      <th>1</th>\n",
       "      <td>1596789425</td>\n",
       "      <td>44552007.00</td>\n",
       "      <td>Yes</td>\n",
       "    </tr>\n",
       "    <tr>\n",
       "      <th>2</th>\n",
       "      <td>4478945574</td>\n",
       "      <td>15466636.00</td>\n",
       "      <td>Yes</td>\n",
       "    </tr>\n",
       "    <tr>\n",
       "      <th>3</th>\n",
       "      <td>4478945574</td>\n",
       "      <td>15466636.00</td>\n",
       "      <td>Yes</td>\n",
       "    </tr>\n",
       "    <tr>\n",
       "      <th>4</th>\n",
       "      <td>2563256322</td>\n",
       "      <td>3998520.00</td>\n",
       "      <td>Yes</td>\n",
       "    </tr>\n",
       "  </tbody>\n",
       "</table>\n",
       "</div>"
      ],
      "text/plain": [
       "       Acc_No   Acc_Balance Loan_Eligibility\n",
       "0  4561237895  247126336.00              Yes\n",
       "1  1596789425   44552007.00              Yes\n",
       "2  4478945574   15466636.00              Yes\n",
       "3  4478945574   15466636.00              Yes\n",
       "4  2563256322    3998520.00              Yes"
      ]
     },
     "execution_count": 3,
     "metadata": {},
     "output_type": "execute_result"
    }
   ],
   "source": [
    "# Printing the first five rows of the dataset\n",
    "df.head()"
   ]
  },
  {
   "cell_type": "code",
   "execution_count": 4,
   "id": "14e43030",
   "metadata": {},
   "outputs": [
    {
     "data": {
      "text/html": [
       "<div>\n",
       "<style scoped>\n",
       "    .dataframe tbody tr th:only-of-type {\n",
       "        vertical-align: middle;\n",
       "    }\n",
       "\n",
       "    .dataframe tbody tr th {\n",
       "        vertical-align: top;\n",
       "    }\n",
       "\n",
       "    .dataframe thead th {\n",
       "        text-align: right;\n",
       "    }\n",
       "</style>\n",
       "<table border=\"1\" class=\"dataframe\">\n",
       "  <thead>\n",
       "    <tr style=\"text-align: right;\">\n",
       "      <th></th>\n",
       "      <th>Acc_No</th>\n",
       "      <th>Acc_Balance</th>\n",
       "      <th>Loan_Eligibility</th>\n",
       "    </tr>\n",
       "  </thead>\n",
       "  <tbody>\n",
       "    <tr>\n",
       "      <th>27</th>\n",
       "      <td>125879634</td>\n",
       "      <td>25622005.00</td>\n",
       "      <td>Yes</td>\n",
       "    </tr>\n",
       "    <tr>\n",
       "      <th>28</th>\n",
       "      <td>2365853223</td>\n",
       "      <td>2552220.00</td>\n",
       "      <td>No</td>\n",
       "    </tr>\n",
       "    <tr>\n",
       "      <th>29</th>\n",
       "      <td>2478963356</td>\n",
       "      <td>45000217.00</td>\n",
       "      <td>Yes</td>\n",
       "    </tr>\n",
       "    <tr>\n",
       "      <th>30</th>\n",
       "      <td>4587522652</td>\n",
       "      <td>750000.00</td>\n",
       "      <td>Yes</td>\n",
       "    </tr>\n",
       "    <tr>\n",
       "      <th>31</th>\n",
       "      <td>3644795562</td>\n",
       "      <td>457800.00</td>\n",
       "      <td>No</td>\n",
       "    </tr>\n",
       "  </tbody>\n",
       "</table>\n",
       "</div>"
      ],
      "text/plain": [
       "        Acc_No  Acc_Balance Loan_Eligibility\n",
       "27   125879634  25622005.00              Yes\n",
       "28  2365853223   2552220.00               No\n",
       "29  2478963356  45000217.00              Yes\n",
       "30  4587522652    750000.00              Yes\n",
       "31  3644795562    457800.00               No"
      ]
     },
     "execution_count": 4,
     "metadata": {},
     "output_type": "execute_result"
    }
   ],
   "source": [
    "# Printing the last five rows of the dataset\n",
    "df.tail()"
   ]
  },
  {
   "cell_type": "code",
   "execution_count": 5,
   "id": "2f710306",
   "metadata": {},
   "outputs": [
    {
     "data": {
      "text/plain": [
       "(32, 3)"
      ]
     },
     "execution_count": 5,
     "metadata": {},
     "output_type": "execute_result"
    }
   ],
   "source": [
    "# Printing the dimensions of the dataset\n",
    "df.shape"
   ]
  },
  {
   "cell_type": "code",
   "execution_count": 6,
   "id": "104e8c53",
   "metadata": {},
   "outputs": [
    {
     "data": {
      "text/plain": [
       "96"
      ]
     },
     "execution_count": 6,
     "metadata": {},
     "output_type": "execute_result"
    }
   ],
   "source": [
    "# Printing the total no.of elements in the dataset\n",
    "df.size"
   ]
  },
  {
   "cell_type": "code",
   "execution_count": 7,
   "id": "70296831",
   "metadata": {},
   "outputs": [
    {
     "data": {
      "text/plain": [
       "Index(['Acc_No', 'Acc_Balance', 'Loan_Eligibility'], dtype='object')"
      ]
     },
     "execution_count": 7,
     "metadata": {},
     "output_type": "execute_result"
    }
   ],
   "source": [
    "# Printing the features of the dataset\n",
    "df.columns"
   ]
  },
  {
   "cell_type": "code",
   "execution_count": 8,
   "id": "a0f599bb",
   "metadata": {},
   "outputs": [
    {
     "name": "stdout",
     "output_type": "stream",
     "text": [
      "<class 'pandas.core.frame.DataFrame'>\n",
      "RangeIndex: 32 entries, 0 to 31\n",
      "Data columns (total 3 columns):\n",
      " #   Column            Non-Null Count  Dtype \n",
      "---  ------            --------------  ----- \n",
      " 0   Acc_No            32 non-null     object\n",
      " 1   Acc_Balance       30 non-null     object\n",
      " 2   Loan_Eligibility  32 non-null     object\n",
      "dtypes: object(3)\n",
      "memory usage: 896.0+ bytes\n"
     ]
    }
   ],
   "source": [
    "# Showing the summary of the dataset\n",
    "df.info()"
   ]
  },
  {
   "cell_type": "code",
   "execution_count": 9,
   "id": "91556324",
   "metadata": {},
   "outputs": [
    {
     "data": {
      "text/html": [
       "<div>\n",
       "<style scoped>\n",
       "    .dataframe tbody tr th:only-of-type {\n",
       "        vertical-align: middle;\n",
       "    }\n",
       "\n",
       "    .dataframe tbody tr th {\n",
       "        vertical-align: top;\n",
       "    }\n",
       "\n",
       "    .dataframe thead th {\n",
       "        text-align: right;\n",
       "    }\n",
       "</style>\n",
       "<table border=\"1\" class=\"dataframe\">\n",
       "  <thead>\n",
       "    <tr style=\"text-align: right;\">\n",
       "      <th></th>\n",
       "      <th>Acc_No</th>\n",
       "      <th>Acc_Balance</th>\n",
       "      <th>Loan_Eligibility</th>\n",
       "    </tr>\n",
       "  </thead>\n",
       "  <tbody>\n",
       "    <tr>\n",
       "      <th>count</th>\n",
       "      <td>32</td>\n",
       "      <td>30</td>\n",
       "      <td>32</td>\n",
       "    </tr>\n",
       "    <tr>\n",
       "      <th>unique</th>\n",
       "      <td>27</td>\n",
       "      <td>24</td>\n",
       "      <td>2</td>\n",
       "    </tr>\n",
       "    <tr>\n",
       "      <th>top</th>\n",
       "      <td>4478945574</td>\n",
       "      <td>72300.00</td>\n",
       "      <td>Yes</td>\n",
       "    </tr>\n",
       "    <tr>\n",
       "      <th>freq</th>\n",
       "      <td>2</td>\n",
       "      <td>3</td>\n",
       "      <td>24</td>\n",
       "    </tr>\n",
       "  </tbody>\n",
       "</table>\n",
       "</div>"
      ],
      "text/plain": [
       "            Acc_No Acc_Balance Loan_Eligibility\n",
       "count           32          30               32\n",
       "unique          27          24                2\n",
       "top     4478945574    72300.00              Yes\n",
       "freq             2           3               24"
      ]
     },
     "execution_count": 9,
     "metadata": {},
     "output_type": "execute_result"
    }
   ],
   "source": [
    "# Showing the Statistics of the dataset\n",
    "df.describe(include='all')"
   ]
  },
  {
   "cell_type": "markdown",
   "id": "59e7ba3c",
   "metadata": {},
   "source": [
    "### Feature Selection"
   ]
  },
  {
   "cell_type": "code",
   "execution_count": 10,
   "id": "63fda9e7",
   "metadata": {},
   "outputs": [],
   "source": [
    "# Selecting the required features\n",
    "df = df[['Acc_Balance', 'Loan_Eligibility']]"
   ]
  },
  {
   "cell_type": "code",
   "execution_count": 11,
   "id": "a7a6e8a4",
   "metadata": {},
   "outputs": [
    {
     "data": {
      "text/html": [
       "<div>\n",
       "<style scoped>\n",
       "    .dataframe tbody tr th:only-of-type {\n",
       "        vertical-align: middle;\n",
       "    }\n",
       "\n",
       "    .dataframe tbody tr th {\n",
       "        vertical-align: top;\n",
       "    }\n",
       "\n",
       "    .dataframe thead th {\n",
       "        text-align: right;\n",
       "    }\n",
       "</style>\n",
       "<table border=\"1\" class=\"dataframe\">\n",
       "  <thead>\n",
       "    <tr style=\"text-align: right;\">\n",
       "      <th></th>\n",
       "      <th>Acc_Balance</th>\n",
       "      <th>Loan_Eligibility</th>\n",
       "    </tr>\n",
       "  </thead>\n",
       "  <tbody>\n",
       "    <tr>\n",
       "      <th>0</th>\n",
       "      <td>247126336.00</td>\n",
       "      <td>Yes</td>\n",
       "    </tr>\n",
       "    <tr>\n",
       "      <th>1</th>\n",
       "      <td>44552007.00</td>\n",
       "      <td>Yes</td>\n",
       "    </tr>\n",
       "    <tr>\n",
       "      <th>2</th>\n",
       "      <td>15466636.00</td>\n",
       "      <td>Yes</td>\n",
       "    </tr>\n",
       "    <tr>\n",
       "      <th>3</th>\n",
       "      <td>15466636.00</td>\n",
       "      <td>Yes</td>\n",
       "    </tr>\n",
       "    <tr>\n",
       "      <th>4</th>\n",
       "      <td>3998520.00</td>\n",
       "      <td>Yes</td>\n",
       "    </tr>\n",
       "  </tbody>\n",
       "</table>\n",
       "</div>"
      ],
      "text/plain": [
       "    Acc_Balance Loan_Eligibility\n",
       "0  247126336.00              Yes\n",
       "1   44552007.00              Yes\n",
       "2   15466636.00              Yes\n",
       "3   15466636.00              Yes\n",
       "4    3998520.00              Yes"
      ]
     },
     "execution_count": 11,
     "metadata": {},
     "output_type": "execute_result"
    }
   ],
   "source": [
    "# Printing the first five rows to check\n",
    "df.head()"
   ]
  },
  {
   "cell_type": "markdown",
   "id": "b50e13ec",
   "metadata": {},
   "source": [
    "### Changing datatype of a Feature"
   ]
  },
  {
   "cell_type": "code",
   "execution_count": 12,
   "id": "557d0d5c",
   "metadata": {},
   "outputs": [],
   "source": [
    "# Changing the datatype of Acc_Balance to float\n",
    "df = df.astype({\"Acc_Balance\": float, \"Loan_Eligibility\": str})"
   ]
  },
  {
   "cell_type": "code",
   "execution_count": 13,
   "id": "f8d636c9",
   "metadata": {},
   "outputs": [
    {
     "name": "stdout",
     "output_type": "stream",
     "text": [
      "<class 'pandas.core.frame.DataFrame'>\n",
      "RangeIndex: 32 entries, 0 to 31\n",
      "Data columns (total 2 columns):\n",
      " #   Column            Non-Null Count  Dtype  \n",
      "---  ------            --------------  -----  \n",
      " 0   Acc_Balance       30 non-null     float64\n",
      " 1   Loan_Eligibility  32 non-null     object \n",
      "dtypes: float64(1), object(1)\n",
      "memory usage: 640.0+ bytes\n"
     ]
    }
   ],
   "source": [
    "# Showing the summary of the dataset after changing datatype\n",
    "df.info()"
   ]
  },
  {
   "cell_type": "code",
   "execution_count": 14,
   "id": "0b09f262",
   "metadata": {},
   "outputs": [
    {
     "data": {
      "text/html": [
       "<div>\n",
       "<style scoped>\n",
       "    .dataframe tbody tr th:only-of-type {\n",
       "        vertical-align: middle;\n",
       "    }\n",
       "\n",
       "    .dataframe tbody tr th {\n",
       "        vertical-align: top;\n",
       "    }\n",
       "\n",
       "    .dataframe thead th {\n",
       "        text-align: right;\n",
       "    }\n",
       "</style>\n",
       "<table border=\"1\" class=\"dataframe\">\n",
       "  <thead>\n",
       "    <tr style=\"text-align: right;\">\n",
       "      <th></th>\n",
       "      <th>Acc_Balance</th>\n",
       "      <th>Loan_Eligibility</th>\n",
       "    </tr>\n",
       "  </thead>\n",
       "  <tbody>\n",
       "    <tr>\n",
       "      <th>count</th>\n",
       "      <td>3.000000e+01</td>\n",
       "      <td>32</td>\n",
       "    </tr>\n",
       "    <tr>\n",
       "      <th>unique</th>\n",
       "      <td>NaN</td>\n",
       "      <td>2</td>\n",
       "    </tr>\n",
       "    <tr>\n",
       "      <th>top</th>\n",
       "      <td>NaN</td>\n",
       "      <td>Yes</td>\n",
       "    </tr>\n",
       "    <tr>\n",
       "      <th>freq</th>\n",
       "      <td>NaN</td>\n",
       "      <td>24</td>\n",
       "    </tr>\n",
       "    <tr>\n",
       "      <th>mean</th>\n",
       "      <td>1.907259e+08</td>\n",
       "      <td>NaN</td>\n",
       "    </tr>\n",
       "    <tr>\n",
       "      <th>std</th>\n",
       "      <td>6.367246e+08</td>\n",
       "      <td>NaN</td>\n",
       "    </tr>\n",
       "    <tr>\n",
       "      <th>min</th>\n",
       "      <td>2.232300e+04</td>\n",
       "      <td>NaN</td>\n",
       "    </tr>\n",
       "    <tr>\n",
       "      <th>25%</th>\n",
       "      <td>1.659421e+06</td>\n",
       "      <td>NaN</td>\n",
       "    </tr>\n",
       "    <tr>\n",
       "      <th>50%</th>\n",
       "      <td>5.106416e+06</td>\n",
       "      <td>NaN</td>\n",
       "    </tr>\n",
       "    <tr>\n",
       "      <th>75%</th>\n",
       "      <td>2.562200e+07</td>\n",
       "      <td>NaN</td>\n",
       "    </tr>\n",
       "    <tr>\n",
       "      <th>max</th>\n",
       "      <td>2.526622e+09</td>\n",
       "      <td>NaN</td>\n",
       "    </tr>\n",
       "  </tbody>\n",
       "</table>\n",
       "</div>"
      ],
      "text/plain": [
       "         Acc_Balance Loan_Eligibility\n",
       "count   3.000000e+01               32\n",
       "unique           NaN                2\n",
       "top              NaN              Yes\n",
       "freq             NaN               24\n",
       "mean    1.907259e+08              NaN\n",
       "std     6.367246e+08              NaN\n",
       "min     2.232300e+04              NaN\n",
       "25%     1.659421e+06              NaN\n",
       "50%     5.106416e+06              NaN\n",
       "75%     2.562200e+07              NaN\n",
       "max     2.526622e+09              NaN"
      ]
     },
     "execution_count": 14,
     "metadata": {},
     "output_type": "execute_result"
    }
   ],
   "source": [
    "# Showing the Statistics of the dataset after changing datatype\n",
    "df.describe(include='all')"
   ]
  },
  {
   "cell_type": "markdown",
   "id": "2283a58c",
   "metadata": {},
   "source": [
    "### Handling Missing Values"
   ]
  },
  {
   "cell_type": "code",
   "execution_count": 15,
   "id": "9e410c15",
   "metadata": {},
   "outputs": [
    {
     "data": {
      "text/html": [
       "<div>\n",
       "<style scoped>\n",
       "    .dataframe tbody tr th:only-of-type {\n",
       "        vertical-align: middle;\n",
       "    }\n",
       "\n",
       "    .dataframe tbody tr th {\n",
       "        vertical-align: top;\n",
       "    }\n",
       "\n",
       "    .dataframe thead th {\n",
       "        text-align: right;\n",
       "    }\n",
       "</style>\n",
       "<table border=\"1\" class=\"dataframe\">\n",
       "  <thead>\n",
       "    <tr style=\"text-align: right;\">\n",
       "      <th></th>\n",
       "      <th>Acc_Balance</th>\n",
       "      <th>Loan_Eligibility</th>\n",
       "    </tr>\n",
       "  </thead>\n",
       "  <tbody>\n",
       "    <tr>\n",
       "      <th>0</th>\n",
       "      <td>False</td>\n",
       "      <td>False</td>\n",
       "    </tr>\n",
       "    <tr>\n",
       "      <th>1</th>\n",
       "      <td>False</td>\n",
       "      <td>False</td>\n",
       "    </tr>\n",
       "    <tr>\n",
       "      <th>2</th>\n",
       "      <td>False</td>\n",
       "      <td>False</td>\n",
       "    </tr>\n",
       "    <tr>\n",
       "      <th>3</th>\n",
       "      <td>False</td>\n",
       "      <td>False</td>\n",
       "    </tr>\n",
       "    <tr>\n",
       "      <th>4</th>\n",
       "      <td>False</td>\n",
       "      <td>False</td>\n",
       "    </tr>\n",
       "    <tr>\n",
       "      <th>5</th>\n",
       "      <td>False</td>\n",
       "      <td>False</td>\n",
       "    </tr>\n",
       "    <tr>\n",
       "      <th>6</th>\n",
       "      <td>False</td>\n",
       "      <td>False</td>\n",
       "    </tr>\n",
       "    <tr>\n",
       "      <th>7</th>\n",
       "      <td>False</td>\n",
       "      <td>False</td>\n",
       "    </tr>\n",
       "    <tr>\n",
       "      <th>8</th>\n",
       "      <td>False</td>\n",
       "      <td>False</td>\n",
       "    </tr>\n",
       "    <tr>\n",
       "      <th>9</th>\n",
       "      <td>False</td>\n",
       "      <td>False</td>\n",
       "    </tr>\n",
       "    <tr>\n",
       "      <th>10</th>\n",
       "      <td>False</td>\n",
       "      <td>False</td>\n",
       "    </tr>\n",
       "    <tr>\n",
       "      <th>11</th>\n",
       "      <td>False</td>\n",
       "      <td>False</td>\n",
       "    </tr>\n",
       "    <tr>\n",
       "      <th>12</th>\n",
       "      <td>False</td>\n",
       "      <td>False</td>\n",
       "    </tr>\n",
       "    <tr>\n",
       "      <th>13</th>\n",
       "      <td>False</td>\n",
       "      <td>False</td>\n",
       "    </tr>\n",
       "    <tr>\n",
       "      <th>14</th>\n",
       "      <td>False</td>\n",
       "      <td>False</td>\n",
       "    </tr>\n",
       "    <tr>\n",
       "      <th>15</th>\n",
       "      <td>True</td>\n",
       "      <td>False</td>\n",
       "    </tr>\n",
       "    <tr>\n",
       "      <th>16</th>\n",
       "      <td>False</td>\n",
       "      <td>False</td>\n",
       "    </tr>\n",
       "    <tr>\n",
       "      <th>17</th>\n",
       "      <td>False</td>\n",
       "      <td>False</td>\n",
       "    </tr>\n",
       "    <tr>\n",
       "      <th>18</th>\n",
       "      <td>False</td>\n",
       "      <td>False</td>\n",
       "    </tr>\n",
       "    <tr>\n",
       "      <th>19</th>\n",
       "      <td>False</td>\n",
       "      <td>False</td>\n",
       "    </tr>\n",
       "    <tr>\n",
       "      <th>20</th>\n",
       "      <td>False</td>\n",
       "      <td>False</td>\n",
       "    </tr>\n",
       "    <tr>\n",
       "      <th>21</th>\n",
       "      <td>False</td>\n",
       "      <td>False</td>\n",
       "    </tr>\n",
       "    <tr>\n",
       "      <th>22</th>\n",
       "      <td>False</td>\n",
       "      <td>False</td>\n",
       "    </tr>\n",
       "    <tr>\n",
       "      <th>23</th>\n",
       "      <td>False</td>\n",
       "      <td>False</td>\n",
       "    </tr>\n",
       "    <tr>\n",
       "      <th>24</th>\n",
       "      <td>False</td>\n",
       "      <td>False</td>\n",
       "    </tr>\n",
       "    <tr>\n",
       "      <th>25</th>\n",
       "      <td>True</td>\n",
       "      <td>False</td>\n",
       "    </tr>\n",
       "    <tr>\n",
       "      <th>26</th>\n",
       "      <td>False</td>\n",
       "      <td>False</td>\n",
       "    </tr>\n",
       "    <tr>\n",
       "      <th>27</th>\n",
       "      <td>False</td>\n",
       "      <td>False</td>\n",
       "    </tr>\n",
       "    <tr>\n",
       "      <th>28</th>\n",
       "      <td>False</td>\n",
       "      <td>False</td>\n",
       "    </tr>\n",
       "    <tr>\n",
       "      <th>29</th>\n",
       "      <td>False</td>\n",
       "      <td>False</td>\n",
       "    </tr>\n",
       "    <tr>\n",
       "      <th>30</th>\n",
       "      <td>False</td>\n",
       "      <td>False</td>\n",
       "    </tr>\n",
       "    <tr>\n",
       "      <th>31</th>\n",
       "      <td>False</td>\n",
       "      <td>False</td>\n",
       "    </tr>\n",
       "  </tbody>\n",
       "</table>\n",
       "</div>"
      ],
      "text/plain": [
       "    Acc_Balance  Loan_Eligibility\n",
       "0         False             False\n",
       "1         False             False\n",
       "2         False             False\n",
       "3         False             False\n",
       "4         False             False\n",
       "5         False             False\n",
       "6         False             False\n",
       "7         False             False\n",
       "8         False             False\n",
       "9         False             False\n",
       "10        False             False\n",
       "11        False             False\n",
       "12        False             False\n",
       "13        False             False\n",
       "14        False             False\n",
       "15         True             False\n",
       "16        False             False\n",
       "17        False             False\n",
       "18        False             False\n",
       "19        False             False\n",
       "20        False             False\n",
       "21        False             False\n",
       "22        False             False\n",
       "23        False             False\n",
       "24        False             False\n",
       "25         True             False\n",
       "26        False             False\n",
       "27        False             False\n",
       "28        False             False\n",
       "29        False             False\n",
       "30        False             False\n",
       "31        False             False"
      ]
     },
     "execution_count": 15,
     "metadata": {},
     "output_type": "execute_result"
    }
   ],
   "source": [
    "# Showing True for null values and False for not null values\n",
    "df.isnull()"
   ]
  },
  {
   "cell_type": "code",
   "execution_count": 16,
   "id": "7d41f6da",
   "metadata": {},
   "outputs": [
    {
     "data": {
      "text/plain": [
       "Acc_Balance         2\n",
       "Loan_Eligibility    0\n",
       "dtype: int64"
      ]
     },
     "execution_count": 16,
     "metadata": {},
     "output_type": "execute_result"
    }
   ],
   "source": [
    "# Finding the features which have null values\n",
    "df.isnull().sum()"
   ]
  },
  {
   "cell_type": "code",
   "execution_count": 17,
   "id": "9137f745",
   "metadata": {},
   "outputs": [
    {
     "data": {
      "text/plain": [
       "2"
      ]
     },
     "execution_count": 17,
     "metadata": {},
     "output_type": "execute_result"
    }
   ],
   "source": [
    "# Total no.of null values present in the dataset\n",
    "df.isnull().values.sum()"
   ]
  },
  {
   "cell_type": "code",
   "execution_count": 18,
   "id": "06151e06",
   "metadata": {},
   "outputs": [],
   "source": [
    "# Filling the missing value with Acc_Balance as 0 \n",
    "df = df.fillna(0)"
   ]
  },
  {
   "cell_type": "code",
   "execution_count": 19,
   "id": "3aab9556",
   "metadata": {},
   "outputs": [
    {
     "data": {
      "text/plain": [
       "0"
      ]
     },
     "execution_count": 19,
     "metadata": {},
     "output_type": "execute_result"
    }
   ],
   "source": [
    "# Cross checking for missing values\n",
    "df.isnull().values.sum()"
   ]
  },
  {
   "cell_type": "markdown",
   "id": "8625cb6b",
   "metadata": {},
   "source": [
    "### Handling String Data"
   ]
  },
  {
   "cell_type": "code",
   "execution_count": 20,
   "id": "3fd0c6a0",
   "metadata": {},
   "outputs": [],
   "source": [
    "# Replacing Yes as 1\n",
    "df.replace(to_replace =\"Yes\", value = 1, inplace = True)"
   ]
  },
  {
   "cell_type": "code",
   "execution_count": 21,
   "id": "b5245a38",
   "metadata": {},
   "outputs": [],
   "source": [
    "# Replacing No as 0\n",
    "df.replace(to_replace =\"No\", value = 0, inplace = True)"
   ]
  },
  {
   "cell_type": "code",
   "execution_count": 22,
   "id": "7be07395",
   "metadata": {},
   "outputs": [
    {
     "data": {
      "text/html": [
       "<div>\n",
       "<style scoped>\n",
       "    .dataframe tbody tr th:only-of-type {\n",
       "        vertical-align: middle;\n",
       "    }\n",
       "\n",
       "    .dataframe tbody tr th {\n",
       "        vertical-align: top;\n",
       "    }\n",
       "\n",
       "    .dataframe thead th {\n",
       "        text-align: right;\n",
       "    }\n",
       "</style>\n",
       "<table border=\"1\" class=\"dataframe\">\n",
       "  <thead>\n",
       "    <tr style=\"text-align: right;\">\n",
       "      <th></th>\n",
       "      <th>Acc_Balance</th>\n",
       "      <th>Loan_Eligibility</th>\n",
       "    </tr>\n",
       "  </thead>\n",
       "  <tbody>\n",
       "    <tr>\n",
       "      <th>0</th>\n",
       "      <td>247126336.0</td>\n",
       "      <td>1</td>\n",
       "    </tr>\n",
       "    <tr>\n",
       "      <th>1</th>\n",
       "      <td>44552007.0</td>\n",
       "      <td>1</td>\n",
       "    </tr>\n",
       "    <tr>\n",
       "      <th>2</th>\n",
       "      <td>15466636.0</td>\n",
       "      <td>1</td>\n",
       "    </tr>\n",
       "    <tr>\n",
       "      <th>3</th>\n",
       "      <td>15466636.0</td>\n",
       "      <td>1</td>\n",
       "    </tr>\n",
       "    <tr>\n",
       "      <th>4</th>\n",
       "      <td>3998520.0</td>\n",
       "      <td>1</td>\n",
       "    </tr>\n",
       "  </tbody>\n",
       "</table>\n",
       "</div>"
      ],
      "text/plain": [
       "   Acc_Balance  Loan_Eligibility\n",
       "0  247126336.0                 1\n",
       "1   44552007.0                 1\n",
       "2   15466636.0                 1\n",
       "3   15466636.0                 1\n",
       "4    3998520.0                 1"
      ]
     },
     "execution_count": 22,
     "metadata": {},
     "output_type": "execute_result"
    }
   ],
   "source": [
    "df.head()"
   ]
  },
  {
   "cell_type": "code",
   "execution_count": 23,
   "id": "ce6620cf",
   "metadata": {},
   "outputs": [
    {
     "data": {
      "text/plain": [
       "dtype('int64')"
      ]
     },
     "execution_count": 23,
     "metadata": {},
     "output_type": "execute_result"
    }
   ],
   "source": [
    "# Checking datatype of Loan_Eligibility\n",
    "df['Loan_Eligibility'].dtype"
   ]
  },
  {
   "cell_type": "markdown",
   "id": "29bdd6af",
   "metadata": {},
   "source": [
    "### Standarization (z-score standarization)"
   ]
  },
  {
   "cell_type": "code",
   "execution_count": 24,
   "id": "7523e7ae",
   "metadata": {},
   "outputs": [
    {
     "data": {
      "text/plain": [
       "array([[ 0.11238835,  0.57735027],\n",
       "       [-0.22084825,  0.57735027],\n",
       "       [-0.26869395,  0.57735027],\n",
       "       [-0.26869395,  0.57735027],\n",
       "       [-0.2875591 ,  0.57735027],\n",
       "       [-0.29389681,  0.57735027],\n",
       "       [-0.28558207,  0.57735027],\n",
       "       [-0.29159412,  0.57735027],\n",
       "       [-0.29409998, -1.73205081],\n",
       "       [-0.25753717,  0.57735027],\n",
       "       [-0.28992018,  0.57735027],\n",
       "       [-0.21640036,  0.57735027],\n",
       "       [ 3.86217969,  0.57735027],\n",
       "       [ 3.86217969,  0.57735027],\n",
       "       [-0.13084927,  0.57735027],\n",
       "       [-0.2941367 , -1.73205081],\n",
       "       [-0.29401777, -1.73205081],\n",
       "       [-0.29401777, -1.73205081],\n",
       "       [-0.29401777, -1.73205081],\n",
       "       [-0.2864673 ,  0.57735027],\n",
       "       [-0.28982131,  0.57735027],\n",
       "       [-0.29084539,  0.57735027],\n",
       "       [-0.25370419,  0.57735027],\n",
       "       [-0.25370419,  0.57735027],\n",
       "       [-0.28589113,  0.57735027],\n",
       "       [-0.2941367 , -1.73205081],\n",
       "       [-0.25198827,  0.57735027],\n",
       "       [-0.25198827,  0.57735027],\n",
       "       [-0.28993828, -1.73205081],\n",
       "       [-0.22011094,  0.57735027],\n",
       "       [-0.29290294,  0.57735027],\n",
       "       [-0.29338362, -1.73205081]])"
      ]
     },
     "execution_count": 24,
     "metadata": {},
     "output_type": "execute_result"
    }
   ],
   "source": [
    "# Importing required library\n",
    "from sklearn.preprocessing import StandardScaler\n",
    "    \n",
    "# Creating object for MinMaxScaler \n",
    "scaling = StandardScaler()\n",
    "\n",
    "# Scaling the dataset\n",
    "scaling.fit_transform(df[[\"Acc_Balance\", \"Loan_Eligibility\"]])"
   ]
  },
  {
   "cell_type": "markdown",
   "id": "73a087ef",
   "metadata": {},
   "source": [
    "### Normalization (MinMaxNormalization)"
   ]
  },
  {
   "cell_type": "code",
   "execution_count": 25,
   "id": "89a3c104",
   "metadata": {},
   "outputs": [
    {
     "data": {
      "text/plain": [
       "array([[9.78089770e-02, 1.00000000e+00],\n",
       "       [1.76330305e-02, 1.00000000e+00],\n",
       "       [6.12146755e-03, 1.00000000e+00],\n",
       "       [6.12146755e-03, 1.00000000e+00],\n",
       "       [1.58255554e-03, 1.00000000e+00],\n",
       "       [5.77173739e-05, 1.00000000e+00],\n",
       "       [2.05822379e-03, 1.00000000e+00],\n",
       "       [6.11738858e-04, 1.00000000e+00],\n",
       "       [8.83511580e-06, 0.00000000e+00],\n",
       "       [8.80576119e-03, 1.00000000e+00],\n",
       "       [1.01448565e-03, 1.00000000e+00],\n",
       "       [1.87031830e-02, 1.00000000e+00],\n",
       "       [1.00000000e+00, 1.00000000e+00],\n",
       "       [1.00000000e+00, 1.00000000e+00],\n",
       "       [3.92865743e-02, 1.00000000e+00],\n",
       "       [0.00000000e+00, 0.00000000e+00],\n",
       "       [2.86152790e-05, 0.00000000e+00],\n",
       "       [2.86152790e-05, 0.00000000e+00],\n",
       "       [2.86152790e-05, 0.00000000e+00],\n",
       "       [1.84523905e-03, 1.00000000e+00],\n",
       "       [1.03827235e-03, 1.00000000e+00],\n",
       "       [7.91881736e-04, 1.00000000e+00],\n",
       "       [9.72796791e-03, 1.00000000e+00],\n",
       "       [9.72796791e-03, 1.00000000e+00],\n",
       "       [1.98386484e-03, 1.00000000e+00],\n",
       "       [0.00000000e+00, 0.00000000e+00],\n",
       "       [1.01408136e-02, 1.00000000e+00],\n",
       "       [1.01408136e-02, 1.00000000e+00],\n",
       "       [1.01013122e-03, 0.00000000e+00],\n",
       "       [1.78104255e-02, 1.00000000e+00],\n",
       "       [2.96838993e-04, 1.00000000e+00],\n",
       "       [1.81190521e-04, 0.00000000e+00]])"
      ]
     },
     "execution_count": 25,
     "metadata": {},
     "output_type": "execute_result"
    }
   ],
   "source": [
    "# Importing required library\n",
    "from sklearn.preprocessing import MinMaxScaler\n",
    "    \n",
    "# Creating object for MinMaxScaler \n",
    "norm = MinMaxScaler()\n",
    "\n",
    "# Normalizing the dataset\n",
    "norm.fit_transform(df[[\"Acc_Balance\", \"Loan_Eligibility\"]])"
   ]
  }
 ],
 "metadata": {
  "kernelspec": {
   "display_name": "Python 3",
   "language": "python",
   "name": "python3"
  },
  "language_info": {
   "codemirror_mode": {
    "name": "ipython",
    "version": 3
   },
   "file_extension": ".py",
   "mimetype": "text/x-python",
   "name": "python",
   "nbconvert_exporter": "python",
   "pygments_lexer": "ipython3",
   "version": "3.8.8"
  }
 },
 "nbformat": 4,
 "nbformat_minor": 5
}
