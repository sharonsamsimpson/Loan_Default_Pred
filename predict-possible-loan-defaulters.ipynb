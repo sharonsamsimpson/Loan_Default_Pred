{
 "cells": [
  {
   "cell_type": "markdown",
   "metadata": {},
   "source": [
    "# Prediction of  possible loan defaulters\n",
    "\n",
    "Loan Prediction based on Customer Behaviour"
   ]
  },
  {
   "cell_type": "markdown",
   "metadata": {},
   "source": [
    "### Import necessary modules"
   ]
  },
  {
   "cell_type": "code",
   "execution_count": 1,
   "metadata": {
    "_cell_guid": "b1076dfc-b9ad-4769-8c92-a6c4dae69d19",
    "_uuid": "8f2839f25d086af736a60e9eeb907d3b93b6e0e5",
    "execution": {
     "iopub.execute_input": "2022-03-21T08:27:03.790636Z",
     "iopub.status.busy": "2022-03-21T08:27:03.790155Z",
     "iopub.status.idle": "2022-03-21T08:27:03.803243Z",
     "shell.execute_reply": "2022-03-21T08:27:03.802187Z",
     "shell.execute_reply.started": "2022-03-21T08:27:03.790593Z"
    }
   },
   "outputs": [],
   "source": [
    "import warnings\n",
    "warnings.filterwarnings(\"ignore\")\n",
    "\n",
    "import time\n",
    "from time import process_time \n",
    "\n",
    "import numpy as np\n",
    "import pandas as pd\n",
    "\n",
    "pd.set_option('display.float_format', lambda x: '%.2f' % x)\n",
    "pd.options.display.max_columns = 100\n",
    "pd.options.display.max_rows = 100\n",
    "\n",
    "import matplotlib.pyplot as plt\n",
    "%matplotlib inline\n",
    "import seaborn as sns\n",
    "\n",
    "from imblearn.over_sampling import RandomOverSampler \n",
    "from collections import Counter\n",
    "\n",
    "from sklearn.model_selection import train_test_split\n",
    "\n",
    "from sklearn.ensemble import RandomForestClassifier\n",
    "from sklearn.neighbors import KNeighborsClassifier\n",
    "from sklearn.tree import DecisionTreeClassifier\n",
    "\n",
    "from sklearn.metrics import *"
   ]
  },
  {
   "cell_type": "markdown",
   "metadata": {},
   "source": [
    "### Load Dataset"
   ]
  },
  {
   "cell_type": "code",
   "execution_count": 2,
   "metadata": {
    "execution": {
     "iopub.execute_input": "2022-03-21T08:27:03.805316Z",
     "iopub.status.busy": "2022-03-21T08:27:03.804581Z",
     "iopub.status.idle": "2022-03-21T08:27:04.251273Z",
     "shell.execute_reply": "2022-03-21T08:27:04.250362Z",
     "shell.execute_reply.started": "2022-03-21T08:27:03.805252Z"
    }
   },
   "outputs": [],
   "source": [
    "df = pd.read_csv(\"Training Data.csv\")\n",
    "dft = pd.read_csv(\"Test Data.csv\")"
   ]
  },
  {
   "cell_type": "markdown",
   "metadata": {},
   "source": [
    "### Explore the data set"
   ]
  },
  {
   "cell_type": "code",
   "execution_count": 3,
   "metadata": {},
   "outputs": [
    {
     "data": {
      "text/html": [
       "<div>\n",
       "<style scoped>\n",
       "    .dataframe tbody tr th:only-of-type {\n",
       "        vertical-align: middle;\n",
       "    }\n",
       "\n",
       "    .dataframe tbody tr th {\n",
       "        vertical-align: top;\n",
       "    }\n",
       "\n",
       "    .dataframe thead th {\n",
       "        text-align: right;\n",
       "    }\n",
       "</style>\n",
       "<table border=\"1\" class=\"dataframe\">\n",
       "  <thead>\n",
       "    <tr style=\"text-align: right;\">\n",
       "      <th></th>\n",
       "      <th>Id</th>\n",
       "      <th>Income</th>\n",
       "      <th>Age</th>\n",
       "      <th>Experience</th>\n",
       "      <th>Married/Single</th>\n",
       "      <th>House_Ownership</th>\n",
       "      <th>Car_Ownership</th>\n",
       "      <th>Profession</th>\n",
       "      <th>CITY</th>\n",
       "      <th>STATE</th>\n",
       "      <th>CURRENT_JOB_YRS</th>\n",
       "      <th>CURRENT_HOUSE_YRS</th>\n",
       "      <th>Risk_Flag</th>\n",
       "    </tr>\n",
       "  </thead>\n",
       "  <tbody>\n",
       "    <tr>\n",
       "      <th>0</th>\n",
       "      <td>1</td>\n",
       "      <td>1303834</td>\n",
       "      <td>23</td>\n",
       "      <td>3</td>\n",
       "      <td>single</td>\n",
       "      <td>rented</td>\n",
       "      <td>no</td>\n",
       "      <td>Mechanical_engineer</td>\n",
       "      <td>Rewa</td>\n",
       "      <td>Madhya_Pradesh</td>\n",
       "      <td>3</td>\n",
       "      <td>13</td>\n",
       "      <td>0</td>\n",
       "    </tr>\n",
       "    <tr>\n",
       "      <th>1</th>\n",
       "      <td>2</td>\n",
       "      <td>7574516</td>\n",
       "      <td>40</td>\n",
       "      <td>10</td>\n",
       "      <td>single</td>\n",
       "      <td>rented</td>\n",
       "      <td>no</td>\n",
       "      <td>Software_Developer</td>\n",
       "      <td>Parbhani</td>\n",
       "      <td>Maharashtra</td>\n",
       "      <td>9</td>\n",
       "      <td>13</td>\n",
       "      <td>0</td>\n",
       "    </tr>\n",
       "    <tr>\n",
       "      <th>2</th>\n",
       "      <td>3</td>\n",
       "      <td>3991815</td>\n",
       "      <td>66</td>\n",
       "      <td>4</td>\n",
       "      <td>married</td>\n",
       "      <td>rented</td>\n",
       "      <td>no</td>\n",
       "      <td>Technical_writer</td>\n",
       "      <td>Alappuzha</td>\n",
       "      <td>Kerala</td>\n",
       "      <td>4</td>\n",
       "      <td>10</td>\n",
       "      <td>0</td>\n",
       "    </tr>\n",
       "    <tr>\n",
       "      <th>3</th>\n",
       "      <td>4</td>\n",
       "      <td>6256451</td>\n",
       "      <td>41</td>\n",
       "      <td>2</td>\n",
       "      <td>single</td>\n",
       "      <td>rented</td>\n",
       "      <td>yes</td>\n",
       "      <td>Software_Developer</td>\n",
       "      <td>Bhubaneswar</td>\n",
       "      <td>Odisha</td>\n",
       "      <td>2</td>\n",
       "      <td>12</td>\n",
       "      <td>1</td>\n",
       "    </tr>\n",
       "    <tr>\n",
       "      <th>4</th>\n",
       "      <td>5</td>\n",
       "      <td>5768871</td>\n",
       "      <td>47</td>\n",
       "      <td>11</td>\n",
       "      <td>single</td>\n",
       "      <td>rented</td>\n",
       "      <td>no</td>\n",
       "      <td>Civil_servant</td>\n",
       "      <td>Tiruchirappalli[10]</td>\n",
       "      <td>Tamil_Nadu</td>\n",
       "      <td>3</td>\n",
       "      <td>14</td>\n",
       "      <td>1</td>\n",
       "    </tr>\n",
       "  </tbody>\n",
       "</table>\n",
       "</div>"
      ],
      "text/plain": [
       "   Id   Income  Age  Experience Married/Single House_Ownership Car_Ownership  \\\n",
       "0   1  1303834   23           3         single          rented            no   \n",
       "1   2  7574516   40          10         single          rented            no   \n",
       "2   3  3991815   66           4        married          rented            no   \n",
       "3   4  6256451   41           2         single          rented           yes   \n",
       "4   5  5768871   47          11         single          rented            no   \n",
       "\n",
       "            Profession                 CITY           STATE  CURRENT_JOB_YRS  \\\n",
       "0  Mechanical_engineer                 Rewa  Madhya_Pradesh                3   \n",
       "1   Software_Developer             Parbhani     Maharashtra                9   \n",
       "2     Technical_writer            Alappuzha          Kerala                4   \n",
       "3   Software_Developer          Bhubaneswar          Odisha                2   \n",
       "4        Civil_servant  Tiruchirappalli[10]      Tamil_Nadu                3   \n",
       "\n",
       "   CURRENT_HOUSE_YRS  Risk_Flag  \n",
       "0                 13          0  \n",
       "1                 13          0  \n",
       "2                 10          0  \n",
       "3                 12          1  \n",
       "4                 14          1  "
      ]
     },
     "execution_count": 3,
     "metadata": {},
     "output_type": "execute_result"
    }
   ],
   "source": [
    "df.head()"
   ]
  },
  {
   "cell_type": "code",
   "execution_count": 4,
   "metadata": {},
   "outputs": [
    {
     "data": {
      "text/html": [
       "<div>\n",
       "<style scoped>\n",
       "    .dataframe tbody tr th:only-of-type {\n",
       "        vertical-align: middle;\n",
       "    }\n",
       "\n",
       "    .dataframe tbody tr th {\n",
       "        vertical-align: top;\n",
       "    }\n",
       "\n",
       "    .dataframe thead th {\n",
       "        text-align: right;\n",
       "    }\n",
       "</style>\n",
       "<table border=\"1\" class=\"dataframe\">\n",
       "  <thead>\n",
       "    <tr style=\"text-align: right;\">\n",
       "      <th></th>\n",
       "      <th>ID</th>\n",
       "      <th>Income</th>\n",
       "      <th>Age</th>\n",
       "      <th>Experience</th>\n",
       "      <th>Married/Single</th>\n",
       "      <th>House_Ownership</th>\n",
       "      <th>Car_Ownership</th>\n",
       "      <th>Profession</th>\n",
       "      <th>CITY</th>\n",
       "      <th>STATE</th>\n",
       "      <th>CURRENT_JOB_YRS</th>\n",
       "      <th>CURRENT_HOUSE_YRS</th>\n",
       "    </tr>\n",
       "  </thead>\n",
       "  <tbody>\n",
       "    <tr>\n",
       "      <th>0</th>\n",
       "      <td>1</td>\n",
       "      <td>7393090</td>\n",
       "      <td>59</td>\n",
       "      <td>19</td>\n",
       "      <td>single</td>\n",
       "      <td>rented</td>\n",
       "      <td>no</td>\n",
       "      <td>Geologist</td>\n",
       "      <td>Malda</td>\n",
       "      <td>West Bengal</td>\n",
       "      <td>4</td>\n",
       "      <td>13</td>\n",
       "    </tr>\n",
       "    <tr>\n",
       "      <th>1</th>\n",
       "      <td>2</td>\n",
       "      <td>1215004</td>\n",
       "      <td>25</td>\n",
       "      <td>5</td>\n",
       "      <td>single</td>\n",
       "      <td>rented</td>\n",
       "      <td>no</td>\n",
       "      <td>Firefighter</td>\n",
       "      <td>Jalna</td>\n",
       "      <td>Maharashtra</td>\n",
       "      <td>5</td>\n",
       "      <td>10</td>\n",
       "    </tr>\n",
       "    <tr>\n",
       "      <th>2</th>\n",
       "      <td>3</td>\n",
       "      <td>8901342</td>\n",
       "      <td>50</td>\n",
       "      <td>12</td>\n",
       "      <td>single</td>\n",
       "      <td>rented</td>\n",
       "      <td>no</td>\n",
       "      <td>Lawyer</td>\n",
       "      <td>Thane</td>\n",
       "      <td>Maharashtra</td>\n",
       "      <td>9</td>\n",
       "      <td>14</td>\n",
       "    </tr>\n",
       "    <tr>\n",
       "      <th>3</th>\n",
       "      <td>4</td>\n",
       "      <td>1944421</td>\n",
       "      <td>49</td>\n",
       "      <td>9</td>\n",
       "      <td>married</td>\n",
       "      <td>rented</td>\n",
       "      <td>yes</td>\n",
       "      <td>Analyst</td>\n",
       "      <td>Latur</td>\n",
       "      <td>Maharashtra</td>\n",
       "      <td>3</td>\n",
       "      <td>12</td>\n",
       "    </tr>\n",
       "    <tr>\n",
       "      <th>4</th>\n",
       "      <td>5</td>\n",
       "      <td>13429</td>\n",
       "      <td>25</td>\n",
       "      <td>18</td>\n",
       "      <td>single</td>\n",
       "      <td>rented</td>\n",
       "      <td>yes</td>\n",
       "      <td>Comedian</td>\n",
       "      <td>Berhampore</td>\n",
       "      <td>West Bengal</td>\n",
       "      <td>13</td>\n",
       "      <td>11</td>\n",
       "    </tr>\n",
       "  </tbody>\n",
       "</table>\n",
       "</div>"
      ],
      "text/plain": [
       "   ID   Income  Age  Experience Married/Single House_Ownership Car_Ownership  \\\n",
       "0   1  7393090   59          19         single          rented            no   \n",
       "1   2  1215004   25           5         single          rented            no   \n",
       "2   3  8901342   50          12         single          rented            no   \n",
       "3   4  1944421   49           9        married          rented           yes   \n",
       "4   5    13429   25          18         single          rented           yes   \n",
       "\n",
       "    Profession        CITY        STATE  CURRENT_JOB_YRS  CURRENT_HOUSE_YRS  \n",
       "0    Geologist       Malda  West Bengal                4                 13  \n",
       "1  Firefighter       Jalna  Maharashtra                5                 10  \n",
       "2       Lawyer       Thane  Maharashtra                9                 14  \n",
       "3      Analyst       Latur  Maharashtra                3                 12  \n",
       "4     Comedian  Berhampore  West Bengal               13                 11  "
      ]
     },
     "execution_count": 4,
     "metadata": {},
     "output_type": "execute_result"
    }
   ],
   "source": [
    "dft.head()"
   ]
  },
  {
   "cell_type": "code",
   "execution_count": 5,
   "metadata": {
    "execution": {
     "iopub.execute_input": "2022-03-21T08:27:04.253242Z",
     "iopub.status.busy": "2022-03-21T08:27:04.252623Z",
     "iopub.status.idle": "2022-03-21T08:27:04.259196Z",
     "shell.execute_reply": "2022-03-21T08:27:04.258204Z",
     "shell.execute_reply.started": "2022-03-21T08:27:04.2532Z"
    }
   },
   "outputs": [
    {
     "name": "stdout",
     "output_type": "stream",
     "text": [
      "Train set:\n",
      "Rows = 252000\n",
      "Columns = 13\n",
      "Size = 3276000\n",
      "\n",
      "\n",
      "Test set:\n",
      "Rows = 28000\n",
      "Columns = 12\n",
      "Size = 336000\n"
     ]
    }
   ],
   "source": [
    "print('Train set:')\n",
    "rows, columns = df.shape\n",
    "print('Rows =', rows)\n",
    "print('Columns =', columns)\n",
    "print('Size =', df.size)\n",
    "\n",
    "print('\\n')\n",
    "\n",
    "print('Test set:')\n",
    "rowst, columnst = dft.shape\n",
    "print('Rows =', rowst)\n",
    "print('Columns =', columnst)\n",
    "print('Size =', dft.size)"
   ]
  },
  {
   "cell_type": "code",
   "execution_count": 6,
   "metadata": {
    "execution": {
     "iopub.execute_input": "2022-03-21T08:27:04.260879Z",
     "iopub.status.busy": "2022-03-21T08:27:04.260665Z",
     "iopub.status.idle": "2022-03-21T08:27:04.442099Z",
     "shell.execute_reply": "2022-03-21T08:27:04.440332Z",
     "shell.execute_reply.started": "2022-03-21T08:27:04.260854Z"
    }
   },
   "outputs": [
    {
     "name": "stdout",
     "output_type": "stream",
     "text": [
      "<class 'pandas.core.frame.DataFrame'>\n",
      "RangeIndex: 252000 entries, 0 to 251999\n",
      "Data columns (total 13 columns):\n",
      " #   Column             Non-Null Count   Dtype \n",
      "---  ------             --------------   ----- \n",
      " 0   Id                 252000 non-null  int64 \n",
      " 1   Income             252000 non-null  int64 \n",
      " 2   Age                252000 non-null  int64 \n",
      " 3   Experience         252000 non-null  int64 \n",
      " 4   Married/Single     252000 non-null  object\n",
      " 5   House_Ownership    252000 non-null  object\n",
      " 6   Car_Ownership      252000 non-null  object\n",
      " 7   Profession         252000 non-null  object\n",
      " 8   CITY               252000 non-null  object\n",
      " 9   STATE              252000 non-null  object\n",
      " 10  CURRENT_JOB_YRS    252000 non-null  int64 \n",
      " 11  CURRENT_HOUSE_YRS  252000 non-null  int64 \n",
      " 12  Risk_Flag          252000 non-null  int64 \n",
      "dtypes: int64(7), object(6)\n",
      "memory usage: 25.0+ MB\n"
     ]
    }
   ],
   "source": [
    "df.info()"
   ]
  },
  {
   "cell_type": "code",
   "execution_count": 7,
   "metadata": {},
   "outputs": [
    {
     "data": {
      "text/html": [
       "<div>\n",
       "<style scoped>\n",
       "    .dataframe tbody tr th:only-of-type {\n",
       "        vertical-align: middle;\n",
       "    }\n",
       "\n",
       "    .dataframe tbody tr th {\n",
       "        vertical-align: top;\n",
       "    }\n",
       "\n",
       "    .dataframe thead th {\n",
       "        text-align: right;\n",
       "    }\n",
       "</style>\n",
       "<table border=\"1\" class=\"dataframe\">\n",
       "  <thead>\n",
       "    <tr style=\"text-align: right;\">\n",
       "      <th></th>\n",
       "      <th>Id</th>\n",
       "      <th>Income</th>\n",
       "      <th>Age</th>\n",
       "      <th>Experience</th>\n",
       "      <th>Married/Single</th>\n",
       "      <th>House_Ownership</th>\n",
       "      <th>Car_Ownership</th>\n",
       "      <th>Profession</th>\n",
       "      <th>CITY</th>\n",
       "      <th>STATE</th>\n",
       "      <th>CURRENT_JOB_YRS</th>\n",
       "      <th>CURRENT_HOUSE_YRS</th>\n",
       "      <th>Risk_Flag</th>\n",
       "    </tr>\n",
       "  </thead>\n",
       "  <tbody>\n",
       "    <tr>\n",
       "      <th>count</th>\n",
       "      <td>252000.00</td>\n",
       "      <td>252000.00</td>\n",
       "      <td>252000.00</td>\n",
       "      <td>252000.00</td>\n",
       "      <td>252000</td>\n",
       "      <td>252000</td>\n",
       "      <td>252000</td>\n",
       "      <td>252000</td>\n",
       "      <td>252000</td>\n",
       "      <td>252000</td>\n",
       "      <td>252000.00</td>\n",
       "      <td>252000.00</td>\n",
       "      <td>252000.00</td>\n",
       "    </tr>\n",
       "    <tr>\n",
       "      <th>unique</th>\n",
       "      <td>NaN</td>\n",
       "      <td>NaN</td>\n",
       "      <td>NaN</td>\n",
       "      <td>NaN</td>\n",
       "      <td>2</td>\n",
       "      <td>3</td>\n",
       "      <td>2</td>\n",
       "      <td>51</td>\n",
       "      <td>317</td>\n",
       "      <td>29</td>\n",
       "      <td>NaN</td>\n",
       "      <td>NaN</td>\n",
       "      <td>NaN</td>\n",
       "    </tr>\n",
       "    <tr>\n",
       "      <th>top</th>\n",
       "      <td>NaN</td>\n",
       "      <td>NaN</td>\n",
       "      <td>NaN</td>\n",
       "      <td>NaN</td>\n",
       "      <td>single</td>\n",
       "      <td>rented</td>\n",
       "      <td>no</td>\n",
       "      <td>Physician</td>\n",
       "      <td>Vijayanagaram</td>\n",
       "      <td>Uttar_Pradesh</td>\n",
       "      <td>NaN</td>\n",
       "      <td>NaN</td>\n",
       "      <td>NaN</td>\n",
       "    </tr>\n",
       "    <tr>\n",
       "      <th>freq</th>\n",
       "      <td>NaN</td>\n",
       "      <td>NaN</td>\n",
       "      <td>NaN</td>\n",
       "      <td>NaN</td>\n",
       "      <td>226272</td>\n",
       "      <td>231898</td>\n",
       "      <td>176000</td>\n",
       "      <td>5957</td>\n",
       "      <td>1259</td>\n",
       "      <td>28400</td>\n",
       "      <td>NaN</td>\n",
       "      <td>NaN</td>\n",
       "      <td>NaN</td>\n",
       "    </tr>\n",
       "    <tr>\n",
       "      <th>mean</th>\n",
       "      <td>126000.50</td>\n",
       "      <td>4997116.67</td>\n",
       "      <td>49.95</td>\n",
       "      <td>10.08</td>\n",
       "      <td>NaN</td>\n",
       "      <td>NaN</td>\n",
       "      <td>NaN</td>\n",
       "      <td>NaN</td>\n",
       "      <td>NaN</td>\n",
       "      <td>NaN</td>\n",
       "      <td>6.33</td>\n",
       "      <td>12.00</td>\n",
       "      <td>0.12</td>\n",
       "    </tr>\n",
       "    <tr>\n",
       "      <th>std</th>\n",
       "      <td>72746.28</td>\n",
       "      <td>2878311.01</td>\n",
       "      <td>17.06</td>\n",
       "      <td>6.00</td>\n",
       "      <td>NaN</td>\n",
       "      <td>NaN</td>\n",
       "      <td>NaN</td>\n",
       "      <td>NaN</td>\n",
       "      <td>NaN</td>\n",
       "      <td>NaN</td>\n",
       "      <td>3.65</td>\n",
       "      <td>1.40</td>\n",
       "      <td>0.33</td>\n",
       "    </tr>\n",
       "    <tr>\n",
       "      <th>min</th>\n",
       "      <td>1.00</td>\n",
       "      <td>10310.00</td>\n",
       "      <td>21.00</td>\n",
       "      <td>0.00</td>\n",
       "      <td>NaN</td>\n",
       "      <td>NaN</td>\n",
       "      <td>NaN</td>\n",
       "      <td>NaN</td>\n",
       "      <td>NaN</td>\n",
       "      <td>NaN</td>\n",
       "      <td>0.00</td>\n",
       "      <td>10.00</td>\n",
       "      <td>0.00</td>\n",
       "    </tr>\n",
       "    <tr>\n",
       "      <th>25%</th>\n",
       "      <td>63000.75</td>\n",
       "      <td>2503015.00</td>\n",
       "      <td>35.00</td>\n",
       "      <td>5.00</td>\n",
       "      <td>NaN</td>\n",
       "      <td>NaN</td>\n",
       "      <td>NaN</td>\n",
       "      <td>NaN</td>\n",
       "      <td>NaN</td>\n",
       "      <td>NaN</td>\n",
       "      <td>3.00</td>\n",
       "      <td>11.00</td>\n",
       "      <td>0.00</td>\n",
       "    </tr>\n",
       "    <tr>\n",
       "      <th>50%</th>\n",
       "      <td>126000.50</td>\n",
       "      <td>5000694.50</td>\n",
       "      <td>50.00</td>\n",
       "      <td>10.00</td>\n",
       "      <td>NaN</td>\n",
       "      <td>NaN</td>\n",
       "      <td>NaN</td>\n",
       "      <td>NaN</td>\n",
       "      <td>NaN</td>\n",
       "      <td>NaN</td>\n",
       "      <td>6.00</td>\n",
       "      <td>12.00</td>\n",
       "      <td>0.00</td>\n",
       "    </tr>\n",
       "    <tr>\n",
       "      <th>75%</th>\n",
       "      <td>189000.25</td>\n",
       "      <td>7477502.00</td>\n",
       "      <td>65.00</td>\n",
       "      <td>15.00</td>\n",
       "      <td>NaN</td>\n",
       "      <td>NaN</td>\n",
       "      <td>NaN</td>\n",
       "      <td>NaN</td>\n",
       "      <td>NaN</td>\n",
       "      <td>NaN</td>\n",
       "      <td>9.00</td>\n",
       "      <td>13.00</td>\n",
       "      <td>0.00</td>\n",
       "    </tr>\n",
       "    <tr>\n",
       "      <th>max</th>\n",
       "      <td>252000.00</td>\n",
       "      <td>9999938.00</td>\n",
       "      <td>79.00</td>\n",
       "      <td>20.00</td>\n",
       "      <td>NaN</td>\n",
       "      <td>NaN</td>\n",
       "      <td>NaN</td>\n",
       "      <td>NaN</td>\n",
       "      <td>NaN</td>\n",
       "      <td>NaN</td>\n",
       "      <td>14.00</td>\n",
       "      <td>14.00</td>\n",
       "      <td>1.00</td>\n",
       "    </tr>\n",
       "  </tbody>\n",
       "</table>\n",
       "</div>"
      ],
      "text/plain": [
       "              Id     Income       Age  Experience Married/Single  \\\n",
       "count  252000.00  252000.00 252000.00   252000.00         252000   \n",
       "unique       NaN        NaN       NaN         NaN              2   \n",
       "top          NaN        NaN       NaN         NaN         single   \n",
       "freq         NaN        NaN       NaN         NaN         226272   \n",
       "mean   126000.50 4997116.67     49.95       10.08            NaN   \n",
       "std     72746.28 2878311.01     17.06        6.00            NaN   \n",
       "min         1.00   10310.00     21.00        0.00            NaN   \n",
       "25%     63000.75 2503015.00     35.00        5.00            NaN   \n",
       "50%    126000.50 5000694.50     50.00       10.00            NaN   \n",
       "75%    189000.25 7477502.00     65.00       15.00            NaN   \n",
       "max    252000.00 9999938.00     79.00       20.00            NaN   \n",
       "\n",
       "       House_Ownership Car_Ownership Profession           CITY          STATE  \\\n",
       "count           252000        252000     252000         252000         252000   \n",
       "unique               3             2         51            317             29   \n",
       "top             rented            no  Physician  Vijayanagaram  Uttar_Pradesh   \n",
       "freq            231898        176000       5957           1259          28400   \n",
       "mean               NaN           NaN        NaN            NaN            NaN   \n",
       "std                NaN           NaN        NaN            NaN            NaN   \n",
       "min                NaN           NaN        NaN            NaN            NaN   \n",
       "25%                NaN           NaN        NaN            NaN            NaN   \n",
       "50%                NaN           NaN        NaN            NaN            NaN   \n",
       "75%                NaN           NaN        NaN            NaN            NaN   \n",
       "max                NaN           NaN        NaN            NaN            NaN   \n",
       "\n",
       "        CURRENT_JOB_YRS  CURRENT_HOUSE_YRS  Risk_Flag  \n",
       "count         252000.00          252000.00  252000.00  \n",
       "unique              NaN                NaN        NaN  \n",
       "top                 NaN                NaN        NaN  \n",
       "freq                NaN                NaN        NaN  \n",
       "mean               6.33              12.00       0.12  \n",
       "std                3.65               1.40       0.33  \n",
       "min                0.00              10.00       0.00  \n",
       "25%                3.00              11.00       0.00  \n",
       "50%                6.00              12.00       0.00  \n",
       "75%                9.00              13.00       0.00  \n",
       "max               14.00              14.00       1.00  "
      ]
     },
     "execution_count": 7,
     "metadata": {},
     "output_type": "execute_result"
    }
   ],
   "source": [
    "df.describe(include='all')"
   ]
  },
  {
   "cell_type": "code",
   "execution_count": 8,
   "metadata": {
    "execution": {
     "iopub.execute_input": "2022-03-21T08:27:06.440741Z",
     "iopub.status.busy": "2022-03-21T08:27:06.440511Z",
     "iopub.status.idle": "2022-03-21T08:27:06.44903Z",
     "shell.execute_reply": "2022-03-21T08:27:06.448208Z",
     "shell.execute_reply.started": "2022-03-21T08:27:06.440714Z"
    }
   },
   "outputs": [
    {
     "data": {
      "text/plain": [
       "0    221004\n",
       "1     30996\n",
       "Name: Risk_Flag, dtype: int64"
      ]
     },
     "execution_count": 8,
     "metadata": {},
     "output_type": "execute_result"
    }
   ],
   "source": [
    "df[\"Risk_Flag\"].value_counts()"
   ]
  },
  {
   "cell_type": "markdown",
   "metadata": {},
   "source": [
    "# Analysing the dataset"
   ]
  },
  {
   "cell_type": "markdown",
   "metadata": {},
   "source": [
    "## Analysing Numerical columns"
   ]
  },
  {
   "cell_type": "code",
   "execution_count": 9,
   "metadata": {
    "execution": {
     "iopub.execute_input": "2022-03-21T08:27:04.771217Z",
     "iopub.status.busy": "2022-03-21T08:27:04.771Z",
     "iopub.status.idle": "2022-03-21T08:27:06.439126Z",
     "shell.execute_reply": "2022-03-21T08:27:06.438339Z",
     "shell.execute_reply.started": "2022-03-21T08:27:04.771188Z"
    }
   },
   "outputs": [
    {
     "data": {
      "image/png": "[encoded data removed]",
      "text/plain": [
       "<Figure size 1440x720 with 9 Axes>"
      ]
     },
     "metadata": {
      "needs_background": "light"
     },
     "output_type": "display_data"
    }
   ],
   "source": [
    "df.hist(figsize = (20, 10))\n",
    "plt.show()"
   ]
  },
  {
   "cell_type": "code",
   "execution_count": 10,
   "metadata": {},
   "outputs": [
    {
     "data": {
      "image/png": "[encoded data removed]",
      "text/plain": [
       "<Figure size 1080x360 with 2 Axes>"
      ]
     },
     "metadata": {
      "needs_background": "light"
     },
     "output_type": "display_data"
    }
   ],
   "source": [
    "fig, (ax1,ax2) = plt.subplots(1,2)\n",
    "\n",
    "df.groupby('Risk_Flag').count()['Id'].plot(kind='pie', \n",
    "                                           labels=['Non-Defaulter','Defaulter'], \n",
    "                                           autopct='%1.1f%%', \n",
    "                                           ax=ax1, \n",
    "                                           figsize=(15,5))\n",
    "ax1.set_title('')\n",
    "ax1.legend(loc='best')\n",
    "\n",
    "df.groupby('Risk_Flag').count()['Id'].plot(kind='bar', ax=ax2, figsize=(15,5))\n",
    "ax2.set_title('')\n",
    "\n",
    "for index,value in enumerate(df.groupby('Risk_Flag').count()['Id']):\n",
    "    plt.text(index-0.08,value+10000,str(value))\n",
    "plt.show()"
   ]
  },
  {
   "cell_type": "code",
   "execution_count": 11,
   "metadata": {
    "execution": {
     "iopub.execute_input": "2022-03-21T08:27:04.70593Z",
     "iopub.status.busy": "2022-03-21T08:27:04.705702Z",
     "iopub.status.idle": "2022-03-21T08:27:04.766484Z",
     "shell.execute_reply": "2022-03-21T08:27:04.765616Z",
     "shell.execute_reply.started": "2022-03-21T08:27:04.705902Z"
    }
   },
   "outputs": [
    {
     "data": {
      "image/png": "[encoded data removed]",
      "text/plain": [
       "<Figure size 720x360 with 2 Axes>"
      ]
     },
     "metadata": {
      "needs_background": "light"
     },
     "output_type": "display_data"
    }
   ],
   "source": [
    "plt.figure(figsize = (10,5))\n",
    "sns.heatmap(df.corr(), annot=True, cmap='YlGnBu')\n",
    "plt.show()"
   ]
  },
  {
   "cell_type": "markdown",
   "metadata": {},
   "source": [
    "## Analysing the Categorical features"
   ]
  },
  {
   "cell_type": "code",
   "execution_count": 12,
   "metadata": {},
   "outputs": [
    {
     "data": {
      "image/png": "[encoded data removed]",
      "text/plain": [
       "<Figure size 720x360 with 1 Axes>"
      ]
     },
     "metadata": {},
     "output_type": "display_data"
    }
   ],
   "source": [
    "df.groupby('Married/Single').count()['Id'].plot(kind='pie',\n",
    "                                                startangle=0,\n",
    "                                                labels=['Married','Single'],\n",
    "                                                autopct='%1.1f%%',\n",
    "                                                colors=['Pink','Teal'], \n",
    "                                                figsize=(10,5))\n",
    "plt.ylabel('')\n",
    "plt.xlabel('Marital Status')\n",
    "plt.title('Total % of Customers who are married/single')\n",
    "plt.legend(loc='best',bbox_to_anchor=(1,0,0.5,0.5))\n",
    "plt.show()"
   ]
  },
  {
   "cell_type": "code",
   "execution_count": 13,
   "metadata": {},
   "outputs": [
    {
     "data": {
      "image/png": "[encoded data removed]",
      "text/plain": [
       "<Figure size 432x288 with 1 Axes>"
      ]
     },
     "metadata": {},
     "output_type": "display_data"
    }
   ],
   "source": [
    "df.loc[df['Risk_Flag'] == 1].groupby('Married/Single').count()['Id']\n",
    "\n",
    "marital_status = df.loc[df['Risk_Flag'] == 1].groupby('Married/Single').count()['Id']\n",
    "marital_status.plot(kind='pie',startangle=0,labels=['Married','Single'],autopct='%1.1f%%')\n",
    "plt.ylabel('')\n",
    "plt.xlabel('Marital Status')\n",
    "plt.title('Loan Defaulters % by Marital Status')\n",
    "plt.legend(loc='best',bbox_to_anchor=(1,0,0.5,0.5))\n",
    "plt.show()"
   ]
  },
  {
   "cell_type": "code",
   "execution_count": 14,
   "metadata": {},
   "outputs": [
    {
     "data": {
      "text/plain": [
       "(0.0, 250000.0)"
      ]
     },
     "execution_count": 14,
     "metadata": {},
     "output_type": "execute_result"
    },
    {
     "data": {
      "image/png": "[encoded data removed]",
      "text/plain": [
       "<Figure size 432x288 with 1 Axes>"
      ]
     },
     "metadata": {
      "needs_background": "light"
     },
     "output_type": "display_data"
    }
   ],
   "source": [
    "house_ownership_count = df.groupby('House_Ownership').count()['Id']\n",
    "house_ownership_count = [231898,7184,12918]\n",
    "\n",
    "\n",
    "sns.countplot(data=df,x='House_Ownership',hue='House_Ownership',)\n",
    "plt.text(-0.4,235000,str(231898))\n",
    "plt.text(0.9,10000,str(7184))\n",
    "plt.text(2.14,16000,str(12918))\n",
    "plt.title('House Ownership of All Customers')\n",
    "plt.ylim(0,250000)"
   ]
  },
  {
   "cell_type": "code",
   "execution_count": 15,
   "metadata": {},
   "outputs": [
    {
     "data": {
      "image/png": "[encoded data removed]",
      "text/plain": [
       "<Figure size 432x288 with 1 Axes>"
      ]
     },
     "metadata": {
      "needs_background": "light"
     },
     "output_type": "display_data"
    }
   ],
   "source": [
    "df.loc[df['Risk_Flag'] == 1].groupby('House_Ownership').count()['Id']\n",
    "\n",
    "sns.countplot(data=df.loc[df['Risk_Flag'] == 1],x='House_Ownership',hue='House_Ownership')\n",
    "plt.text(-0.4,30000,str(29121))\n",
    "plt.text(0.9,2000,str(1160))\n",
    "plt.text(2.14,1800,str(715))\n",
    "plt.ylim(0,35000)\n",
    "plt.title('House Ownership of Loan Defaulting Customers')\n",
    "plt.show()"
   ]
  },
  {
   "cell_type": "code",
   "execution_count": 16,
   "metadata": {},
   "outputs": [
    {
     "data": {
      "image/png": "[encoded data removed]",
      "text/plain": [
       "<Figure size 432x288 with 1 Axes>"
      ]
     },
     "metadata": {},
     "output_type": "display_data"
    }
   ],
   "source": [
    "car_ownership_default = df.loc[df['Risk_Flag'] == 1].groupby('Car_Ownership').count()['Id']\n",
    "car_ownership_default.plot(kind='pie',startangle=0,labels=['Do not Own','Own'],autopct='%1.1f%%')\n",
    "plt.ylabel('')\n",
    "plt.xlabel('Car Ownership')\n",
    "plt.title('Car Ownership % of Loan Defaulting Customers')\n",
    "plt.legend(loc='best',bbox_to_anchor=(1,0,0.5,0.5))\n",
    "plt.show()"
   ]
  },
  {
   "cell_type": "code",
   "execution_count": 17,
   "metadata": {},
   "outputs": [
    {
     "data": {
      "image/png": "[encoded data removed]",
      "text/plain": [
       "<Figure size 1080x360 with 1 Axes>"
      ]
     },
     "metadata": {
      "needs_background": "light"
     },
     "output_type": "display_data"
    }
   ],
   "source": [
    "df_profession_loan_count = df.groupby('Profession').count()['Id'].sort_values(ascending=False)\n",
    "df_plc = df_profession_loan_count.reset_index()\n",
    "df_plc.rename(columns= {'Id':'Loan_Count'},inplace=True)\n",
    "df_plc[:10].plot(kind='bar',x='Profession',figsize=(15,5))\n",
    "plt.legend(loc='best')\n",
    "plt.title('Top 10 Professions who took Loan')\n",
    "plt.xlabel('Loan Count')\n",
    "plt.ylabel('Profession')\n",
    "for index,value in enumerate(df_plc['Loan_Count'][:10]):\n",
    "    plt.text(index-0.2,value+50,str(value))\n",
    "plt.show()   "
   ]
  },
  {
   "cell_type": "code",
   "execution_count": 18,
   "metadata": {},
   "outputs": [
    {
     "data": {
      "image/png": "[encoded data removed]",
      "text/plain": [
       "<Figure size 1080x360 with 1 Axes>"
      ]
     },
     "metadata": {
      "needs_background": "light"
     },
     "output_type": "display_data"
    }
   ],
   "source": [
    "profession = df.groupby(['Profession']).mean()[['Income','Risk_Flag']]\n",
    "\n",
    "profession_top10_income = profession['Income'].sort_values(ascending=False)[:15]\n",
    "profession_top10_income.plot(kind='barh',figsize=(15,5))\n",
    "plt.title('Top 15 Profession with higher Income (mean)')\n",
    "plt.xlabel('Profession')\n",
    "plt.ylabel('Income')\n",
    "\n",
    "for index,value in enumerate(profession_top10_income):\n",
    "    plt.text(value-900000,index-0.1,str(int(value)))\n",
    "plt.legend(loc='best')\n",
    "plt.show()"
   ]
  },
  {
   "cell_type": "code",
   "execution_count": 19,
   "metadata": {},
   "outputs": [
    {
     "data": {
      "image/png": "[encoded data removed]",
      "text/plain": [
       "<Figure size 1080x360 with 1 Axes>"
      ]
     },
     "metadata": {
      "needs_background": "light"
     },
     "output_type": "display_data"
    }
   ],
   "source": [
    "df_ = df.loc[df['Risk_Flag'] == 1].groupby(['Profession']).mean()[['Income']].sort_values(by='Income',ascending=False)\n",
    "df_.sort_values(by='Income',ascending=False)[:15].plot(kind='barh',figsize=(15,5))\n",
    "plt.title('Mean Income of Top 15 Loan Defaulting Professions') \n",
    "plt.xlabel('Income')\n",
    "plt.ylabel('Profession')\n",
    "for index,value in enumerate(df_['Income'][:15]):\n",
    "    plt.text(value-900000,index-0.1,str(int(value)))\n",
    "\n",
    "plt.legend(loc='best')\n",
    "plt.show()"
   ]
  },
  {
   "cell_type": "markdown",
   "metadata": {},
   "source": [
    "## Pre-Processing the dataset"
   ]
  },
  {
   "cell_type": "markdown",
   "metadata": {},
   "source": [
    "#### 1. Dropping the unwanted column: "
   ]
  },
  {
   "cell_type": "code",
   "execution_count": 3,
   "metadata": {},
   "outputs": [],
   "source": [
    "df.drop(['Id','CURRENT_JOB_YRS','CITY','STATE'], axis=1, inplace=True)"
   ]
  },
  {
   "cell_type": "code",
   "execution_count": 4,
   "metadata": {},
   "outputs": [],
   "source": [
    "dft.drop(['ID','CURRENT_JOB_YRS','CITY','STATE'], axis=1, inplace=True)"
   ]
  },
  {
   "cell_type": "markdown",
   "metadata": {},
   "source": [
    "#### 2. Identify missing values: "
   ]
  },
  {
   "cell_type": "code",
   "execution_count": 5,
   "metadata": {},
   "outputs": [
    {
     "data": {
      "text/plain": [
       "0"
      ]
     },
     "execution_count": 5,
     "metadata": {},
     "output_type": "execute_result"
    }
   ],
   "source": [
    "df.isnull().sum().sum()"
   ]
  },
  {
   "cell_type": "code",
   "execution_count": 6,
   "metadata": {},
   "outputs": [
    {
     "data": {
      "text/plain": [
       "0"
      ]
     },
     "execution_count": 6,
     "metadata": {},
     "output_type": "execute_result"
    }
   ],
   "source": [
    "dft.isnull().sum().sum()"
   ]
  },
  {
   "cell_type": "markdown",
   "metadata": {},
   "source": [
    "#### 3. Converting categorical variables to numeric:"
   ]
  },
  {
   "cell_type": "markdown",
   "metadata": {},
   "source": [
    "The following encoding will be done to the categorical features:\n",
    "\n",
    "marital_status, car_ownership – binarise\n",
    "\n",
    "profession – count encoding\n",
    "\n",
    "house_ownership – one-hot"
   ]
  },
  {
   "cell_type": "code",
   "execution_count": 7,
   "metadata": {},
   "outputs": [],
   "source": [
    "df['Married/Single'].replace({'married':1, 'single':0}, inplace=True)\n",
    "df['Car_Ownership'].replace({'yes':1, 'no':0}, inplace=True)"
   ]
  },
  {
   "cell_type": "code",
   "execution_count": 8,
   "metadata": {},
   "outputs": [],
   "source": [
    "dft['Married/Single'].replace({'married':1, 'single':0}, inplace=True)\n",
    "dft['Car_Ownership'].replace({'yes':1, 'no':0}, inplace=True)"
   ]
  },
  {
   "cell_type": "code",
   "execution_count": 10,
   "metadata": {},
   "outputs": [
    {
     "data": {
      "text/plain": [
       "array(['Mechanical_engineer', 'Software_Developer', 'Technical_writer',\n",
       "       'Civil_servant', 'Librarian', 'Economist', 'Flight_attendant',\n",
       "       'Architect', 'Designer', 'Physician', 'Financial_Analyst',\n",
       "       'Air_traffic_controller', 'Politician', 'Police_officer', 'Artist',\n",
       "       'Surveyor', 'Design_Engineer', 'Chemical_engineer',\n",
       "       'Hotel_Manager', 'Dentist', 'Comedian', 'Biomedical_Engineer',\n",
       "       'Graphic_Designer', 'Computer_hardware_engineer',\n",
       "       'Petroleum_Engineer', 'Secretary', 'Computer_operator',\n",
       "       'Chartered_Accountant', 'Technician', 'Microbiologist',\n",
       "       'Fashion_Designer', 'Aviator', 'Psychologist', 'Magistrate',\n",
       "       'Lawyer', 'Firefighter', 'Engineer', 'Official', 'Analyst',\n",
       "       'Geologist', 'Drafter', 'Statistician', 'Web_designer',\n",
       "       'Consultant', 'Chef', 'Army_officer', 'Surgeon', 'Scientist',\n",
       "       'Civil_engineer', 'Industrial_Engineer', 'Technology_specialist'],\n",
       "      dtype=object)"
      ]
     },
     "execution_count": 10,
     "metadata": {},
     "output_type": "execute_result"
    }
   ],
   "source": [
    "df['Profession'].unique()"
   ]
  },
  {
   "cell_type": "code",
   "execution_count": 9,
   "metadata": {},
   "outputs": [
    {
     "data": {
      "text/plain": [
       "{'Physician': 5957,\n",
       " 'Statistician': 5806,\n",
       " 'Web_designer': 5397,\n",
       " 'Psychologist': 5390,\n",
       " 'Computer_hardware_engineer': 5372,\n",
       " 'Drafter': 5359,\n",
       " 'Magistrate': 5357,\n",
       " 'Fashion_Designer': 5304,\n",
       " 'Air_traffic_controller': 5281,\n",
       " 'Comedian': 5259,\n",
       " 'Industrial_Engineer': 5250,\n",
       " 'Mechanical_engineer': 5217,\n",
       " 'Chemical_engineer': 5205,\n",
       " 'Technical_writer': 5195,\n",
       " 'Hotel_Manager': 5178,\n",
       " 'Financial_Analyst': 5167,\n",
       " 'Graphic_Designer': 5166,\n",
       " 'Flight_attendant': 5128,\n",
       " 'Biomedical_Engineer': 5127,\n",
       " 'Secretary': 5061,\n",
       " 'Software_Developer': 5053,\n",
       " 'Petroleum_Engineer': 5041,\n",
       " 'Police_officer': 5035,\n",
       " 'Computer_operator': 4990,\n",
       " 'Politician': 4944,\n",
       " 'Microbiologist': 4881,\n",
       " 'Technician': 4864,\n",
       " 'Artist': 4861,\n",
       " 'Lawyer': 4818,\n",
       " 'Consultant': 4808,\n",
       " 'Dentist': 4782,\n",
       " 'Scientist': 4781,\n",
       " 'Surgeon': 4772,\n",
       " 'Aviator': 4758,\n",
       " 'Technology_specialist': 4737,\n",
       " 'Design_Engineer': 4729,\n",
       " 'Surveyor': 4714,\n",
       " 'Geologist': 4672,\n",
       " 'Analyst': 4668,\n",
       " 'Army_officer': 4661,\n",
       " 'Architect': 4657,\n",
       " 'Chef': 4635,\n",
       " 'Librarian': 4628,\n",
       " 'Civil_engineer': 4616,\n",
       " 'Designer': 4598,\n",
       " 'Economist': 4573,\n",
       " 'Firefighter': 4507,\n",
       " 'Chartered_Accountant': 4493,\n",
       " 'Civil_servant': 4413,\n",
       " 'Official': 4087,\n",
       " 'Engineer': 4048}"
      ]
     },
     "execution_count": 9,
     "metadata": {},
     "output_type": "execute_result"
    }
   ],
   "source": [
    "df_frequency = df['Profession'].value_counts().to_dict()\n",
    "df_frequency"
   ]
  },
  {
   "cell_type": "code",
   "execution_count": null,
   "metadata": {},
   "outputs": [],
   "source": []
  },
  {
   "cell_type": "code",
   "execution_count": 26,
   "metadata": {},
   "outputs": [],
   "source": [
    "df_frequency = df['Profession'].value_counts().to_dict()\n",
    "df['Profession'] = df['Profession'].map(df_frequency)"
   ]
  },
  {
   "cell_type": "code",
   "execution_count": 27,
   "metadata": {},
   "outputs": [],
   "source": [
    "df_frequency = dft['Profession'].value_counts().to_dict()\n",
    "dft['Profession'] = dft['Profession'].map(df_frequency)"
   ]
  },
  {
   "cell_type": "code",
   "execution_count": 28,
   "metadata": {},
   "outputs": [],
   "source": [
    "df = pd.get_dummies(df)"
   ]
  },
  {
   "cell_type": "code",
   "execution_count": 29,
   "metadata": {},
   "outputs": [],
   "source": [
    "dft = pd.get_dummies(dft)"
   ]
  },
  {
   "cell_type": "code",
   "execution_count": 30,
   "metadata": {},
   "outputs": [
    {
     "data": {
      "text/html": [
       "<div>\n",
       "<style scoped>\n",
       "    .dataframe tbody tr th:only-of-type {\n",
       "        vertical-align: middle;\n",
       "    }\n",
       "\n",
       "    .dataframe tbody tr th {\n",
       "        vertical-align: top;\n",
       "    }\n",
       "\n",
       "    .dataframe thead th {\n",
       "        text-align: right;\n",
       "    }\n",
       "</style>\n",
       "<table border=\"1\" class=\"dataframe\">\n",
       "  <thead>\n",
       "    <tr style=\"text-align: right;\">\n",
       "      <th></th>\n",
       "      <th>Income</th>\n",
       "      <th>Age</th>\n",
       "      <th>Experience</th>\n",
       "      <th>Married/Single</th>\n",
       "      <th>Car_Ownership</th>\n",
       "      <th>Profession</th>\n",
       "      <th>CURRENT_HOUSE_YRS</th>\n",
       "      <th>Risk_Flag</th>\n",
       "      <th>House_Ownership_norent_noown</th>\n",
       "      <th>House_Ownership_owned</th>\n",
       "      <th>House_Ownership_rented</th>\n",
       "    </tr>\n",
       "  </thead>\n",
       "  <tbody>\n",
       "    <tr>\n",
       "      <th>0</th>\n",
       "      <td>1303834</td>\n",
       "      <td>23</td>\n",
       "      <td>3</td>\n",
       "      <td>0</td>\n",
       "      <td>0</td>\n",
       "      <td>5217</td>\n",
       "      <td>13</td>\n",
       "      <td>0</td>\n",
       "      <td>0</td>\n",
       "      <td>0</td>\n",
       "      <td>1</td>\n",
       "    </tr>\n",
       "    <tr>\n",
       "      <th>1</th>\n",
       "      <td>7574516</td>\n",
       "      <td>40</td>\n",
       "      <td>10</td>\n",
       "      <td>0</td>\n",
       "      <td>0</td>\n",
       "      <td>5053</td>\n",
       "      <td>13</td>\n",
       "      <td>0</td>\n",
       "      <td>0</td>\n",
       "      <td>0</td>\n",
       "      <td>1</td>\n",
       "    </tr>\n",
       "    <tr>\n",
       "      <th>2</th>\n",
       "      <td>3991815</td>\n",
       "      <td>66</td>\n",
       "      <td>4</td>\n",
       "      <td>1</td>\n",
       "      <td>0</td>\n",
       "      <td>5195</td>\n",
       "      <td>10</td>\n",
       "      <td>0</td>\n",
       "      <td>0</td>\n",
       "      <td>0</td>\n",
       "      <td>1</td>\n",
       "    </tr>\n",
       "  </tbody>\n",
       "</table>\n",
       "</div>"
      ],
      "text/plain": [
       "    Income  Age  Experience  Married/Single  Car_Ownership  Profession  \\\n",
       "0  1303834   23           3               0              0        5217   \n",
       "1  7574516   40          10               0              0        5053   \n",
       "2  3991815   66           4               1              0        5195   \n",
       "\n",
       "   CURRENT_HOUSE_YRS  Risk_Flag  House_Ownership_norent_noown  \\\n",
       "0                 13          0                             0   \n",
       "1                 13          0                             0   \n",
       "2                 10          0                             0   \n",
       "\n",
       "   House_Ownership_owned  House_Ownership_rented  \n",
       "0                      0                       1  \n",
       "1                      0                       1  \n",
       "2                      0                       1  "
      ]
     },
     "execution_count": 30,
     "metadata": {},
     "output_type": "execute_result"
    }
   ],
   "source": [
    "df.head(3)"
   ]
  },
  {
   "cell_type": "code",
   "execution_count": 31,
   "metadata": {},
   "outputs": [
    {
     "data": {
      "text/html": [
       "<div>\n",
       "<style scoped>\n",
       "    .dataframe tbody tr th:only-of-type {\n",
       "        vertical-align: middle;\n",
       "    }\n",
       "\n",
       "    .dataframe tbody tr th {\n",
       "        vertical-align: top;\n",
       "    }\n",
       "\n",
       "    .dataframe thead th {\n",
       "        text-align: right;\n",
       "    }\n",
       "</style>\n",
       "<table border=\"1\" class=\"dataframe\">\n",
       "  <thead>\n",
       "    <tr style=\"text-align: right;\">\n",
       "      <th></th>\n",
       "      <th>Income</th>\n",
       "      <th>Age</th>\n",
       "      <th>Experience</th>\n",
       "      <th>Married/Single</th>\n",
       "      <th>Car_Ownership</th>\n",
       "      <th>Profession</th>\n",
       "      <th>CURRENT_HOUSE_YRS</th>\n",
       "      <th>House_Ownership_norent_noown</th>\n",
       "      <th>House_Ownership_owned</th>\n",
       "      <th>House_Ownership_rented</th>\n",
       "    </tr>\n",
       "  </thead>\n",
       "  <tbody>\n",
       "    <tr>\n",
       "      <th>0</th>\n",
       "      <td>7393090</td>\n",
       "      <td>59</td>\n",
       "      <td>19</td>\n",
       "      <td>0</td>\n",
       "      <td>0</td>\n",
       "      <td>495</td>\n",
       "      <td>13</td>\n",
       "      <td>0</td>\n",
       "      <td>0</td>\n",
       "      <td>1</td>\n",
       "    </tr>\n",
       "    <tr>\n",
       "      <th>1</th>\n",
       "      <td>1215004</td>\n",
       "      <td>25</td>\n",
       "      <td>5</td>\n",
       "      <td>0</td>\n",
       "      <td>0</td>\n",
       "      <td>539</td>\n",
       "      <td>10</td>\n",
       "      <td>0</td>\n",
       "      <td>0</td>\n",
       "      <td>1</td>\n",
       "    </tr>\n",
       "    <tr>\n",
       "      <th>2</th>\n",
       "      <td>8901342</td>\n",
       "      <td>50</td>\n",
       "      <td>12</td>\n",
       "      <td>0</td>\n",
       "      <td>0</td>\n",
       "      <td>510</td>\n",
       "      <td>14</td>\n",
       "      <td>0</td>\n",
       "      <td>0</td>\n",
       "      <td>1</td>\n",
       "    </tr>\n",
       "  </tbody>\n",
       "</table>\n",
       "</div>"
      ],
      "text/plain": [
       "    Income  Age  Experience  Married/Single  Car_Ownership  Profession  \\\n",
       "0  7393090   59          19               0              0         495   \n",
       "1  1215004   25           5               0              0         539   \n",
       "2  8901342   50          12               0              0         510   \n",
       "\n",
       "   CURRENT_HOUSE_YRS  House_Ownership_norent_noown  House_Ownership_owned  \\\n",
       "0                 13                             0                      0   \n",
       "1                 10                             0                      0   \n",
       "2                 14                             0                      0   \n",
       "\n",
       "   House_Ownership_rented  \n",
       "0                       1  \n",
       "1                       1  \n",
       "2                       1  "
      ]
     },
     "execution_count": 31,
     "metadata": {},
     "output_type": "execute_result"
    }
   ],
   "source": [
    "dft.head(3)"
   ]
  },
  {
   "cell_type": "code",
   "execution_count": 32,
   "metadata": {},
   "outputs": [
    {
     "name": "stdout",
     "output_type": "stream",
     "text": [
      "<class 'pandas.core.frame.DataFrame'>\n",
      "RangeIndex: 252000 entries, 0 to 251999\n",
      "Data columns (total 11 columns):\n",
      " #   Column                        Non-Null Count   Dtype\n",
      "---  ------                        --------------   -----\n",
      " 0   Income                        252000 non-null  int64\n",
      " 1   Age                           252000 non-null  int64\n",
      " 2   Experience                    252000 non-null  int64\n",
      " 3   Married/Single                252000 non-null  int64\n",
      " 4   Car_Ownership                 252000 non-null  int64\n",
      " 5   Profession                    252000 non-null  int64\n",
      " 6   CURRENT_HOUSE_YRS             252000 non-null  int64\n",
      " 7   Risk_Flag                     252000 non-null  int64\n",
      " 8   House_Ownership_norent_noown  252000 non-null  uint8\n",
      " 9   House_Ownership_owned         252000 non-null  uint8\n",
      " 10  House_Ownership_rented        252000 non-null  uint8\n",
      "dtypes: int64(8), uint8(3)\n",
      "memory usage: 16.1 MB\n"
     ]
    }
   ],
   "source": [
    "df.info()"
   ]
  },
  {
   "cell_type": "code",
   "execution_count": 33,
   "metadata": {},
   "outputs": [
    {
     "name": "stdout",
     "output_type": "stream",
     "text": [
      "<class 'pandas.core.frame.DataFrame'>\n",
      "RangeIndex: 28000 entries, 0 to 27999\n",
      "Data columns (total 10 columns):\n",
      " #   Column                        Non-Null Count  Dtype\n",
      "---  ------                        --------------  -----\n",
      " 0   Income                        28000 non-null  int64\n",
      " 1   Age                           28000 non-null  int64\n",
      " 2   Experience                    28000 non-null  int64\n",
      " 3   Married/Single                28000 non-null  int64\n",
      " 4   Car_Ownership                 28000 non-null  int64\n",
      " 5   Profession                    28000 non-null  int64\n",
      " 6   CURRENT_HOUSE_YRS             28000 non-null  int64\n",
      " 7   House_Ownership_norent_noown  28000 non-null  uint8\n",
      " 8   House_Ownership_owned         28000 non-null  uint8\n",
      " 9   House_Ownership_rented        28000 non-null  uint8\n",
      "dtypes: int64(7), uint8(3)\n",
      "memory usage: 1.6 MB\n"
     ]
    }
   ],
   "source": [
    "dft.info()"
   ]
  },
  {
   "cell_type": "code",
   "execution_count": 34,
   "metadata": {},
   "outputs": [],
   "source": [
    "df.to_csv(r\"C:\\Users\\kiruba-haran\\Desktop\\PML Micro Project\\ppdata.csv\", header=True, index=False)"
   ]
  },
  {
   "cell_type": "code",
   "execution_count": 35,
   "metadata": {},
   "outputs": [],
   "source": [
    "dft.to_csv(r\"C:\\Users\\kiruba-haran\\Desktop\\PML Micro Project\\ppdatat.csv\", header=True, index=False)"
   ]
  },
  {
   "cell_type": "markdown",
   "metadata": {},
   "source": [
    "#### Resampling the Data with Random Oversampler"
   ]
  },
  {
   "cell_type": "code",
   "execution_count": 36,
   "metadata": {},
   "outputs": [],
   "source": [
    "pp = pd.read_csv(\"ppdata.csv\")\n",
    "ppt = pd.read_csv(\"ppdatat.csv\")"
   ]
  },
  {
   "cell_type": "code",
   "execution_count": 37,
   "metadata": {
    "execution": {
     "iopub.execute_input": "2022-03-21T08:36:38.554762Z",
     "iopub.status.busy": "2022-03-21T08:36:38.55404Z",
     "iopub.status.idle": "2022-03-21T08:36:38.571162Z",
     "shell.execute_reply": "2022-03-21T08:36:38.570524Z",
     "shell.execute_reply.started": "2022-03-21T08:36:38.55472Z"
    }
   },
   "outputs": [],
   "source": [
    "X = pp.drop(\"Risk_Flag\", axis=1)\n",
    "y = pp[\"Risk_Flag\"]"
   ]
  },
  {
   "cell_type": "code",
   "execution_count": 38,
   "metadata": {},
   "outputs": [],
   "source": [
    "sampler = RandomOverSampler(random_state=42, sampling_strategy=0.45)\n",
    "\n",
    "X_sampled, y_sampled = sampler.fit_resample(X,y)"
   ]
  },
  {
   "cell_type": "code",
   "execution_count": 39,
   "metadata": {},
   "outputs": [
    {
     "name": "stdout",
     "output_type": "stream",
     "text": [
      "Counter({0: 221004, 1: 30996}) Counter({0: 221004, 1: 99451})\n"
     ]
    }
   ],
   "source": [
    "print(Counter(y),Counter(y_sampled))"
   ]
  },
  {
   "cell_type": "code",
   "execution_count": 40,
   "metadata": {},
   "outputs": [],
   "source": [
    "df1 = pd.concat([X_sampled,y_sampled], axis=1)"
   ]
  },
  {
   "cell_type": "markdown",
   "metadata": {},
   "source": [
    "### Splitting the data into train and test splits"
   ]
  },
  {
   "cell_type": "code",
   "execution_count": 41,
   "metadata": {},
   "outputs": [],
   "source": [
    "X = df1.drop(\"Risk_Flag\", axis=1)\n",
    "y = df1[\"Risk_Flag\"]"
   ]
  },
  {
   "cell_type": "code",
   "execution_count": 42,
   "metadata": {
    "execution": {
     "iopub.execute_input": "2022-03-21T08:36:50.416962Z",
     "iopub.status.busy": "2022-03-21T08:36:50.416682Z",
     "iopub.status.idle": "2022-03-21T08:36:50.602612Z",
     "shell.execute_reply": "2022-03-21T08:36:50.601715Z",
     "shell.execute_reply.started": "2022-03-21T08:36:50.416922Z"
    }
   },
   "outputs": [],
   "source": [
    "X_train, X_test, y_train, y_test = train_test_split( X, y, test_size=0.3, random_state=42)"
   ]
  },
  {
   "cell_type": "markdown",
   "metadata": {},
   "source": [
    "## Model Building:"
   ]
  },
  {
   "cell_type": "code",
   "execution_count": 43,
   "metadata": {},
   "outputs": [],
   "source": [
    "classifiers = { \n",
    "    \"DTC\": DecisionTreeClassifier(),\n",
    "    \"RFC\": RandomForestClassifier(),\n",
    "    \"KNN\": KNeighborsClassifier(),\n",
    "}\n",
    "\n",
    "no_classifiers = len(classifiers.keys())\n",
    "\n",
    "def classify(X_train, y_train, X_test, y_test, verbose = True):\n",
    "    \n",
    "    df_results = pd.DataFrame(data=np.zeros(shape=(no_classifiers, 7)), \n",
    "                              columns = ['Classifier',\n",
    "                                         'F1 Score',\n",
    "                                         'Accuracy',\n",
    "                                         'Precision',\n",
    "                                         'Recall',\n",
    "                                         'AUC',\n",
    "                                         'Training time'])\n",
    "    \n",
    "    count = 0\n",
    "    for key, classifier in classifiers.items():\n",
    "        \n",
    "        t_start = process_time()  \n",
    "        classifier.fit(X_train, y_train)\n",
    "        \n",
    "        t_stop = process_time() \n",
    "        t_elapsed = t_stop - t_start\n",
    "        \n",
    "        y_pred = classifier.predict(X_test)\n",
    "        \n",
    "        df_results.loc[count,'Classifier'] = key\n",
    "        df_results.loc[count,'F1 Score'] = f1_score(y_test, y_pred)\n",
    "        df_results.loc[count,'Accuracy'] = accuracy_score(y_test, y_pred)\n",
    "        df_results.loc[count,'Precision'] = precision_score(y_test, y_pred)\n",
    "        df_results.loc[count,'Recall'] = recall_score(y_test, y_pred)\n",
    "        df_results.loc[count,'AUC'] = roc_auc_score(y_test, y_pred)\n",
    "        df_results.loc[count,'Training time'] = t_elapsed\n",
    "        \n",
    "        count+=1\n",
    "\n",
    "    return df_results"
   ]
  },
  {
   "cell_type": "code",
   "execution_count": 44,
   "metadata": {},
   "outputs": [
    {
     "data": {
      "text/html": [
       "<div>\n",
       "<style scoped>\n",
       "    .dataframe tbody tr th:only-of-type {\n",
       "        vertical-align: middle;\n",
       "    }\n",
       "\n",
       "    .dataframe tbody tr th {\n",
       "        vertical-align: top;\n",
       "    }\n",
       "\n",
       "    .dataframe thead th {\n",
       "        text-align: right;\n",
       "    }\n",
       "</style>\n",
       "<table border=\"1\" class=\"dataframe\">\n",
       "  <thead>\n",
       "    <tr style=\"text-align: right;\">\n",
       "      <th></th>\n",
       "      <th>Classifier</th>\n",
       "      <th>F1 Score</th>\n",
       "      <th>Accuracy</th>\n",
       "      <th>Precision</th>\n",
       "      <th>Recall</th>\n",
       "      <th>AUC</th>\n",
       "      <th>Training time</th>\n",
       "    </tr>\n",
       "  </thead>\n",
       "  <tbody>\n",
       "    <tr>\n",
       "      <th>1</th>\n",
       "      <td>RFC</td>\n",
       "      <td>0.90</td>\n",
       "      <td>0.93</td>\n",
       "      <td>0.83</td>\n",
       "      <td>0.97</td>\n",
       "      <td>0.94</td>\n",
       "      <td>44.84</td>\n",
       "    </tr>\n",
       "    <tr>\n",
       "      <th>0</th>\n",
       "      <td>DTC</td>\n",
       "      <td>0.87</td>\n",
       "      <td>0.91</td>\n",
       "      <td>0.79</td>\n",
       "      <td>0.98</td>\n",
       "      <td>0.93</td>\n",
       "      <td>1.83</td>\n",
       "    </tr>\n",
       "    <tr>\n",
       "      <th>2</th>\n",
       "      <td>KNN</td>\n",
       "      <td>0.81</td>\n",
       "      <td>0.88</td>\n",
       "      <td>0.76</td>\n",
       "      <td>0.86</td>\n",
       "      <td>0.87</td>\n",
       "      <td>3.67</td>\n",
       "    </tr>\n",
       "  </tbody>\n",
       "</table>\n",
       "</div>"
      ],
      "text/plain": [
       "  Classifier  F1 Score  Accuracy  Precision  Recall  AUC  Training time\n",
       "1        RFC      0.90      0.93       0.83    0.97 0.94          44.84\n",
       "0        DTC      0.87      0.91       0.79    0.98 0.93           1.83\n",
       "2        KNN      0.81      0.88       0.76    0.86 0.87           3.67"
      ]
     },
     "execution_count": 44,
     "metadata": {},
     "output_type": "execute_result"
    }
   ],
   "source": [
    "df_results = classify(X_train, y_train, X_test, y_test)\n",
    "df_results.sort_values(by='Accuracy', ascending=False)"
   ]
  },
  {
   "cell_type": "markdown",
   "metadata": {},
   "source": [
    "## Model Evaluation"
   ]
  },
  {
   "cell_type": "code",
   "execution_count": 45,
   "metadata": {},
   "outputs": [
    {
     "name": "stdout",
     "output_type": "stream",
     "text": [
      "Metrics for training set:\n",
      "Accuracy =  0.9303493972143919 \n",
      "\n",
      "F1 Score =  0.8957074325587191 \n",
      "\n",
      "Report:\n",
      "               precision    recall  f1-score   support\n",
      "\n",
      "           0       0.99      0.91      0.95     66611\n",
      "           1       0.83      0.97      0.90     29526\n",
      "\n",
      "    accuracy                           0.93     96137\n",
      "   macro avg       0.91      0.94      0.92     96137\n",
      "weighted avg       0.94      0.93      0.93     96137\n",
      "\n",
      "Confusion Matrix:\n"
     ]
    },
    {
     "data": {
      "image/png": "[encoded data removed]",
      "text/plain": [
       "<Figure size 432x288 with 2 Axes>"
      ]
     },
     "metadata": {
      "needs_background": "light"
     },
     "output_type": "display_data"
    }
   ],
   "source": [
    "rfc = RandomForestClassifier()\n",
    "\n",
    "rfc.fit(X_train, y_train)\n",
    "\n",
    "y_pred = rfc.predict(X_test)\n",
    "\n",
    "print('Metrics for training set:')\n",
    "\n",
    "print('Accuracy = ', accuracy_score(y_test, y_pred), '\\n')\n",
    "\n",
    "print('F1 Score = ', f1_score(y_test, y_pred), '\\n')\n",
    "\n",
    "print('Report:\\n', classification_report(y_test, y_pred))\n",
    "\n",
    "print('Confusion Matrix:')\n",
    "plot_confusion_matrix(rfc, X_test, y_test)\n",
    "plt.show()"
   ]
  },
  {
   "cell_type": "code",
   "execution_count": 46,
   "metadata": {},
   "outputs": [
    {
     "name": "stdout",
     "output_type": "stream",
     "text": [
      "Accuracy for testing set =  1.0\n"
     ]
    }
   ],
   "source": [
    "rfc1 = RandomForestClassifier()\n",
    "\n",
    "rfc1.fit(X_train, y_train)\n",
    "\n",
    "y_pred_ppt = rfc1.predict(ppt)\n",
    "\n",
    "print('Accuracy for testing set = ', rfc1.score(ppt, y_pred_ppt))"
   ]
  },
  {
   "cell_type": "markdown",
   "metadata": {},
   "source": [
    "### Plotting ROC Curve"
   ]
  },
  {
   "cell_type": "code",
   "execution_count": 47,
   "metadata": {},
   "outputs": [
    {
     "data": {
      "image/png": "[encoded data removed]",
      "text/plain": [
       "<Figure size 432x288 with 1 Axes>"
      ]
     },
     "metadata": {
      "needs_background": "light"
     },
     "output_type": "display_data"
    }
   ],
   "source": [
    "plot_roc_curve(rfc, X_test, y_test, linestyle='-',color='blue',label='RFC Baseline')\n",
    "plt.plot([0,1],[0,1], \"--\", c='black')\n",
    "plt.show()"
   ]
  }
 ],
 "metadata": {
  "kernelspec": {
   "display_name": "Python 3 (ipykernel)",
   "language": "python",
   "name": "python3"
  },
  "language_info": {
   "codemirror_mode": {
    "name": "ipython",
    "version": 3
   },
   "file_extension": ".py",
   "mimetype": "text/x-python",
   "name": "python",
   "nbconvert_exporter": "python",
   "pygments_lexer": "ipython3",
   "version": "3.9.7"
  }
 },
 "nbformat": 4,
 "nbformat_minor": 4
}
